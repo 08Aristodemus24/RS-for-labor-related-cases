{
 "cells": [
  {
   "cell_type": "markdown",
   "metadata": {},
   "source": [
    "# International Labor Law Resources"
   ]
  },
  {
   "cell_type": "markdown",
   "metadata": {},
   "source": [
    "# To do list:\n",
    "\n",
    "problem 12: scrape the link text and href from the international labor law resources page through copy and paste\n",
    "\n",
    "problem 12: scrape the link text and href from both https://www.chanrobles.com/legal4conventions.html and https://www.chanrobles.com/legal4conventions1.html which are long lists of a elements of International Labor Conventions Ratified by the Philippines and International Labor Conventions Proposed to the Philippines for Ratification"
   ]
  },
  {
   "cell_type": "markdown",
   "metadata": {},
   "source": []
  }
 ],
 "metadata": {
  "kernelspec": {
   "display_name": "Python 3.9.12 ('mldev')",
   "language": "python",
   "name": "python3"
  },
  "language_info": {
   "name": "python",
   "version": "3.9.12"
  },
  "orig_nbformat": 4,
  "vscode": {
   "interpreter": {
    "hash": "c6a5db7e3898f1ec047ffa0fd6d9251e59e457cf985271d4a44d24323efb77a1"
   }
  }
 },
 "nbformat": 4,
 "nbformat_minor": 2
}
