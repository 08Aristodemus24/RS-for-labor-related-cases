{
 "cells": [
  {
   "cell_type": "markdown",
   "metadata": {},
   "source": [
    "# 13th Month Pay Law"
   ]
  },
  {
   "cell_type": "markdown",
   "metadata": {},
   "source": [
    "## import libraries"
   ]
  },
  {
   "cell_type": "code",
   "execution_count": 6,
   "metadata": {},
   "outputs": [],
   "source": [
    "from selenium.webdriver.chrome.service import Service\n",
    "from selenium import webdriver\n",
    "import pandas as pd\n",
    "import test"
   ]
  },
  {
   "cell_type": "markdown",
   "metadata": {},
   "source": [
    "## setup driver"
   ]
  },
  {
   "cell_type": "code",
   "execution_count": 7,
   "metadata": {},
   "outputs": [],
   "source": [
    "PATH = \"C:\\Program Files (x86)\\Chrome Driver\\chromedriver.exe\"\n",
    "service = Service(executable_path=PATH)\n",
    "driver = webdriver.Chrome(service=service)\n",
    "\n",
    "# used so that everytime browser updates there is no need for downloading a new\n",
    "# version of the chromedriver.exe application to match version of newly updated browser\n",
    "# from webdriver_manager.chrome import ChromeDriverManager\n",
    "# service = Service(executable_path=ChromeDriverManager().install())"
   ]
  },
  {
   "cell_type": "code",
   "execution_count": 8,
   "metadata": {},
   "outputs": [],
   "source": [
    "link_details = test.collect_link_details(\n",
    "    driver,\n",
    "    \"https://www.chanrobles.com/13thmonthpaylaw.html\",\n",
    "    \"html > body > div:first-of-type > div:nth-of-type(2) > div > div:nth-of-type(5) > div > table > tbody > tr:first-of-type > td > div > div:first-of-type > div > table > tbody > tr > td > div:nth-of-type(2) > center:nth-of-type(2) > center:nth-of-type(2)\"\n",
    ")"
   ]
  },
  {
   "cell_type": "code",
   "execution_count": 9,
   "metadata": {},
   "outputs": [
    {
     "data": {
      "text/html": [
       "<div>\n",
       "<style scoped>\n",
       "    .dataframe tbody tr th:only-of-type {\n",
       "        vertical-align: middle;\n",
       "    }\n",
       "\n",
       "    .dataframe tbody tr th {\n",
       "        vertical-align: top;\n",
       "    }\n",
       "\n",
       "    .dataframe thead th {\n",
       "        text-align: right;\n",
       "    }\n",
       "</style>\n",
       "<table border=\"1\" class=\"dataframe\">\n",
       "  <thead>\n",
       "    <tr style=\"text-align: right;\">\n",
       "      <th></th>\n",
       "      <th>link_text</th>\n",
       "      <th>href</th>\n",
       "    </tr>\n",
       "  </thead>\n",
       "  <tbody>\n",
       "    <tr>\n",
       "      <th>0</th>\n",
       "      <td>The 13th-Month Pay Law (Presidential Decree No...</td>\n",
       "      <td>https://www.chanrobles.com/presidentialdecreen...</td>\n",
       "    </tr>\n",
       "    <tr>\n",
       "      <th>1</th>\n",
       "      <td>The 13th-Month Pay Law - Implementing Rules</td>\n",
       "      <td>https://www.chanrobles.com/presidentialdecreen...</td>\n",
       "    </tr>\n",
       "    <tr>\n",
       "      <th>2</th>\n",
       "      <td>The 13th-Month Pay Law - Supplementary Rules</td>\n",
       "      <td>https://www.chanrobles.com/presidentialdecreen...</td>\n",
       "    </tr>\n",
       "    <tr>\n",
       "      <th>3</th>\n",
       "      <td>The 13th-Month Pay Law - Guidelines (Administr...</td>\n",
       "      <td>https://www.chanrobles.com/presidentialdecreen...</td>\n",
       "    </tr>\n",
       "    <tr>\n",
       "      <th>4</th>\n",
       "      <td>Revised Guidelines on the Implementation of th...</td>\n",
       "      <td>https://www.chanrobles.com/revised13thmonthpay...</td>\n",
       "    </tr>\n",
       "  </tbody>\n",
       "</table>\n",
       "</div>"
      ],
      "text/plain": [
       "                                           link_text  \\\n",
       "0  The 13th-Month Pay Law (Presidential Decree No...   \n",
       "1        The 13th-Month Pay Law - Implementing Rules   \n",
       "2       The 13th-Month Pay Law - Supplementary Rules   \n",
       "3  The 13th-Month Pay Law - Guidelines (Administr...   \n",
       "4  Revised Guidelines on the Implementation of th...   \n",
       "\n",
       "                                                href  \n",
       "0  https://www.chanrobles.com/presidentialdecreen...  \n",
       "1  https://www.chanrobles.com/presidentialdecreen...  \n",
       "2  https://www.chanrobles.com/presidentialdecreen...  \n",
       "3  https://www.chanrobles.com/presidentialdecreen...  \n",
       "4  https://www.chanrobles.com/revised13thmonthpay...  "
      ]
     },
     "execution_count": 9,
     "metadata": {},
     "output_type": "execute_result"
    }
   ],
   "source": [
    "link_details"
   ]
  },
  {
   "cell_type": "markdown",
   "metadata": {},
   "source": [
    "# Main\n",
    "\n",
    "header: html > body > div:first-of-type > div:nth-of-type(2) > div > div:nth-of-type(5) > div > table > tbody > tr:first-of-type > td > div > div:first-of-type > div > table > tbody > tr > td > div:nth-of-type(2) > center:nth-of-type(4) > center:nth-of-type(2), html > body > div:first-of-type > div:nth-of-type(2) > div > div:nth-of-type(5) > div > table > tbody > tr:first-of-type > td > div > div:first-of-type > div > table > tbody > tr > td > div:nth-of-type(2) > center:nth-of-type(4) > center:nth-of-type(3), html > body > div:first-of-type > div:nth-of-type(2) > div > div:nth-of-type(5) > div > table > tbody > tr:first-of-type > td > div > div:first-of-type > div > table > tbody > tr > td > div:nth-of-type(2) > center:nth-of-type(4) > center:nth-of-type(4), html > body > div:first-of-type > div:nth-of-type(2) > div > div:nth-of-type(5) > div > table > tbody > tr:first-of-type > td > div > div:first-of-type > div > table > tbody > tr > td > div:nth-of-type(2) > center:nth-of-type(4) > center:nth-of-type(8) > center:nth-of-type(2), html > body > div:first-of-type > div:nth-of-type(2) > div > div:nth-of-type(5) > div > table > tbody > tr:first-of-type > td > div > div:first-of-type > div > table > tbody > tr > td > div:nth-of-type(2) > center:nth-of-type(4) > center:nth-of-type(8) > center:nth-of-type(3), html > body > div:first-of-type > div:nth-of-type(2) > div > div:nth-of-type(5) > div > table > tbody > tr:first-of-type > td > div > div:first-of-type > div > table > tbody > tr > td > div:nth-of-type(2) > center:nth-of-type(4) > center:nth-of-type(8) > center:nth-of-type(4)\n",
    "\n",
    "text content: html > body > div:first-of-type > div:nth-of-type(2) > div > div:nth-of-type(5) > div > table > tbody > tr:first-of-type > td > div > div:first-of-type > div > table > tbody > tr > td > div:nth-of-type(2) > center:nth-of-type(4) > center:nth-of-type(8) > div"
   ]
  },
  {
   "cell_type": "code",
   "execution_count": 10,
   "metadata": {},
   "outputs": [
    {
     "name": "stdout",
     "output_type": "stream",
     "text": [
      "Wait value: True\n",
      "Page title: THE 13TH-MONTH PAY LAW - CHAN ROBLES VIRTUAL LAW LIBRARY\n",
      "\n",
      "Header: This web page features the full text of Presidential Decree No. 851 THE 13TH MONTH PAY LAW PRESIDENTIAL DECREE NO. 851   REQUIRING ALL EMPLOYERS TO PAY THEIR EMPLOYEES A 13th-MONTH PAY\n",
      "Text contentWHEREAS, it is necessary to further protect the level of real wages from the ravage of worldwide inflation;\n",
      "\n",
      "WHEREAS, there has been no increase in the legal minimum wage rates since 1970;\n",
      "\n",
      "WHEREAS, the Christmas season is an opportune time for society to show its concern for the plight of the working masses so they may properly celebrate Christmas and New Year.\n",
      "\n",
      "NOW, THEREFORE, I, FERDINAND E. MARCOS, by virtue of the powers vested in me by the Constitution, do hereby decree as follows:chanroblesvirtuallawlibrary\n",
      "\n",
      "Section 1. All employers are hereby required to pay all their employees receiving a basic salary of not more than P1,000 a month, regardless of the nature of their employment, a 13th-month pay not later than December 24 of every year.\n",
      "\n",
      "Sec. 2. Employers already paying their employees a 13th-month pay or its equivalent are not covered by this Decree.\n",
      "\n",
      "Sec. 3. This Decree shall take effect immediately.\n",
      "\n",
      "Done in the City of Manila, this 16th day of December 1975.\n",
      "\n",
      "\n",
      "will go to next link\n",
      "Wait value: True\n",
      "Page title: RULES IMPLEMENTING THE 13TH-MONTH PAY LAW - CHAN ROBLES VIRTUAL LAW LIBRARY\n",
      "\n",
      "Error Message: no such element: Unable to locate element: {\"method\":\"css selector\",\"selector\":\"html > body > div:first-of-type > div:nth-of-type(2) > div > div:nth-of-type(5) > div > table > tbody > tr:first-of-type > td > div > div:first-of-type > div > table > tbody > tr > td > div:nth-of-type(2) > center:nth-of-type(4) > center:nth-of-type(8) > div\"}\n",
      "  (Session info: chrome=106.0.5249.121)\n",
      "Stacktrace:\n",
      "Backtrace:\n",
      "\tOrdinal0 [0x00831ED3+2236115]\n",
      "\tOrdinal0 [0x007C92F1+1807089]\n",
      "\tOrdinal0 [0x006D66FD+812797]\n",
      "\tOrdinal0 [0x007055DF+1005023]\n",
      "\tOrdinal0 [0x007057CB+1005515]\n",
      "\tOrdinal0 [0x00737632+1209906]\n",
      "\tOrdinal0 [0x00721AD4+1120980]\n",
      "\tOrdinal0 [0x007359E2+1202658]\n",
      "\tOrdinal0 [0x007218A6+1120422]\n",
      "\tOrdinal0 [0x006FA73D+960317]\n",
      "\tOrdinal0 [0x006FB71F+964383]\n",
      "\tGetHandleVerifier [0x00ADE7E2+2743074]\n",
      "\tGetHandleVerifier [0x00AD08D4+2685972]\n",
      "\tGetHandleVerifier [0x008C2BAA+532202]\n",
      "\tGetHandleVerifier [0x008C1990+527568]\n",
      "\tOrdinal0 [0x007D080C+1837068]\n",
      "\tOrdinal0 [0x007D4CD8+1854680]\n",
      "\tOrdinal0 [0x007D4DC5+1854917]\n",
      "\tOrdinal0 [0x007DED64+1895780]\n",
      "\tBaseThreadInitThunk [0x758E6359+25]\n",
      "\tRtlGetAppContainerNamedObjectPath [0x77D77B74+228]\n",
      "\tRtlGetAppContainerNamedObjectPath [0x77D77B44+180]\n",
      " has occured\n",
      "will go to next link\n",
      "Wait value: True\n",
      "Page title: SUPPLEMENTARY RULES IMPLEMENTING THE 13TH-MONTH PAY LAW - CHAN ROBLES VIRTUAL LAW LIBRARY\n",
      "\n",
      "Error Message: no such element: Unable to locate element: {\"method\":\"css selector\",\"selector\":\"html > body > div:first-of-type > div:nth-of-type(2) > div > div:nth-of-type(5) > div > table > tbody > tr:first-of-type > td > div > div:first-of-type > div > table > tbody > tr > td > div:nth-of-type(2) > center:nth-of-type(4) > center:nth-of-type(8) > div\"}\n",
      "  (Session info: chrome=106.0.5249.121)\n",
      "Stacktrace:\n",
      "Backtrace:\n",
      "\tOrdinal0 [0x00831ED3+2236115]\n",
      "\tOrdinal0 [0x007C92F1+1807089]\n",
      "\tOrdinal0 [0x006D66FD+812797]\n",
      "\tOrdinal0 [0x007055DF+1005023]\n",
      "\tOrdinal0 [0x007057CB+1005515]\n",
      "\tOrdinal0 [0x00737632+1209906]\n",
      "\tOrdinal0 [0x00721AD4+1120980]\n",
      "\tOrdinal0 [0x007359E2+1202658]\n",
      "\tOrdinal0 [0x007218A6+1120422]\n",
      "\tOrdinal0 [0x006FA73D+960317]\n",
      "\tOrdinal0 [0x006FB71F+964383]\n",
      "\tGetHandleVerifier [0x00ADE7E2+2743074]\n",
      "\tGetHandleVerifier [0x00AD08D4+2685972]\n",
      "\tGetHandleVerifier [0x008C2BAA+532202]\n",
      "\tGetHandleVerifier [0x008C1990+527568]\n",
      "\tOrdinal0 [0x007D080C+1837068]\n",
      "\tOrdinal0 [0x007D4CD8+1854680]\n",
      "\tOrdinal0 [0x007D4DC5+1854917]\n",
      "\tOrdinal0 [0x007DED64+1895780]\n",
      "\tBaseThreadInitThunk [0x758E6359+25]\n",
      "\tRtlGetAppContainerNamedObjectPath [0x77D77B74+228]\n",
      "\tRtlGetAppContainerNamedObjectPath [0x77D77B44+180]\n",
      " has occured\n",
      "will go to next link\n",
      "Wait value: True\n",
      "Page title: GUIDELINES ON THE IMPLEMENTATION OF THE 13TH-MONTH PAY LAW - CHAN ROBLES VIRTUAL LAW LIBRARY\n",
      "\n",
      "Error Message: no such element: Unable to locate element: {\"method\":\"css selector\",\"selector\":\"html > body > div:first-of-type > div:nth-of-type(2) > div > div:nth-of-type(5) > div > table > tbody > tr:first-of-type > td > div > div:first-of-type > div > table > tbody > tr > td > div:nth-of-type(2) > center:nth-of-type(4) > center:nth-of-type(8) > div\"}\n",
      "  (Session info: chrome=106.0.5249.121)\n",
      "Stacktrace:\n",
      "Backtrace:\n",
      "\tOrdinal0 [0x00831ED3+2236115]\n",
      "\tOrdinal0 [0x007C92F1+1807089]\n",
      "\tOrdinal0 [0x006D66FD+812797]\n",
      "\tOrdinal0 [0x007055DF+1005023]\n",
      "\tOrdinal0 [0x007057CB+1005515]\n",
      "\tOrdinal0 [0x00737632+1209906]\n",
      "\tOrdinal0 [0x00721AD4+1120980]\n",
      "\tOrdinal0 [0x007359E2+1202658]\n",
      "\tOrdinal0 [0x007218A6+1120422]\n",
      "\tOrdinal0 [0x006FA73D+960317]\n",
      "\tOrdinal0 [0x006FB71F+964383]\n",
      "\tGetHandleVerifier [0x00ADE7E2+2743074]\n",
      "\tGetHandleVerifier [0x00AD08D4+2685972]\n",
      "\tGetHandleVerifier [0x008C2BAA+532202]\n",
      "\tGetHandleVerifier [0x008C1990+527568]\n",
      "\tOrdinal0 [0x007D080C+1837068]\n",
      "\tOrdinal0 [0x007D4CD8+1854680]\n",
      "\tOrdinal0 [0x007D4DC5+1854917]\n",
      "\tOrdinal0 [0x007DED64+1895780]\n",
      "\tBaseThreadInitThunk [0x758E6359+25]\n",
      "\tRtlGetAppContainerNamedObjectPath [0x77D77B74+228]\n",
      "\tRtlGetAppContainerNamedObjectPath [0x77D77B44+180]\n",
      " has occured\n",
      "will go to next link\n",
      "Wait value: True\n",
      "Page title: REVISED GUIDELINES ON THE IMPLEMENTATION OF THE 13TH MONTH PAY LAW - CHAN ROBLES VIRTUAL LAW LIBRARY\n",
      "\n",
      "Error Message: no such element: Unable to locate element: {\"method\":\"css selector\",\"selector\":\"html > body > div:first-of-type > div:nth-of-type(2) > div > div:nth-of-type(5) > div > table > tbody > tr:first-of-type > td > div > div:first-of-type > div > table > tbody > tr > td > div:nth-of-type(2) > center:nth-of-type(4) > center:nth-of-type(8) > div\"}\n",
      "  (Session info: chrome=106.0.5249.121)\n",
      "Stacktrace:\n",
      "Backtrace:\n",
      "\tOrdinal0 [0x00831ED3+2236115]\n",
      "\tOrdinal0 [0x007C92F1+1807089]\n",
      "\tOrdinal0 [0x006D66FD+812797]\n",
      "\tOrdinal0 [0x007055DF+1005023]\n",
      "\tOrdinal0 [0x007057CB+1005515]\n",
      "\tOrdinal0 [0x00737632+1209906]\n",
      "\tOrdinal0 [0x00721AD4+1120980]\n",
      "\tOrdinal0 [0x007359E2+1202658]\n",
      "\tOrdinal0 [0x007218A6+1120422]\n",
      "\tOrdinal0 [0x006FA73D+960317]\n",
      "\tOrdinal0 [0x006FB71F+964383]\n",
      "\tGetHandleVerifier [0x00ADE7E2+2743074]\n",
      "\tGetHandleVerifier [0x00AD08D4+2685972]\n",
      "\tGetHandleVerifier [0x008C2BAA+532202]\n",
      "\tGetHandleVerifier [0x008C1990+527568]\n",
      "\tOrdinal0 [0x007D080C+1837068]\n",
      "\tOrdinal0 [0x007D4CD8+1854680]\n",
      "\tOrdinal0 [0x007D4DC5+1854917]\n",
      "\tOrdinal0 [0x007DED64+1895780]\n",
      "\tBaseThreadInitThunk [0x758E6359+25]\n",
      "\tRtlGetAppContainerNamedObjectPath [0x77D77B74+228]\n",
      "\tRtlGetAppContainerNamedObjectPath [0x77D77B44+180]\n",
      " has occured\n",
      "will go to next link\n",
      "number of total links: 5\n",
      "number of accepted links: 1\n",
      "number of reject links: 4\n",
      "\n",
      "['https://www.chanrobles.com/presidentialdecreeno851.htm']\n",
      "['https://www.chanrobles.com/presidentialdecreeno851rules.htm', 'https://www.chanrobles.com/presidentialdecreeno851supplementaryrules.htm', 'https://www.chanrobles.com/presidentialdecreeno851guidelines.htm', 'https://www.chanrobles.com/revised13thmonthpayguidelines.htm']\n"
     ]
    }
   ],
   "source": [
    "page_details = test.collect_content(\n",
    "    driver,\n",
    "    link_details['href'],\n",
    "    \"html > body > div:first-of-type > div:nth-of-type(2) > div > div:nth-of-type(5) > div > table > tbody > tr:first-of-type > td > div > div:first-of-type > div > table > tbody > tr > td > div:nth-of-type(2) > center:nth-of-type(4) > center:nth-of-type(2), html > body > div:first-of-type > div:nth-of-type(2) > div > div:nth-of-type(5) > div > table > tbody > tr:first-of-type > td > div > div:first-of-type > div > table > tbody > tr > td > div:nth-of-type(2) > center:nth-of-type(4) > center:nth-of-type(3), html > body > div:first-of-type > div:nth-of-type(2) > div > div:nth-of-type(5) > div > table > tbody > tr:first-of-type > td > div > div:first-of-type > div > table > tbody > tr > td > div:nth-of-type(2) > center:nth-of-type(4) > center:nth-of-type(4), html > body > div:first-of-type > div:nth-of-type(2) > div > div:nth-of-type(5) > div > table > tbody > tr:first-of-type > td > div > div:first-of-type > div > table > tbody > tr > td > div:nth-of-type(2) > center:nth-of-type(4) > center:nth-of-type(8) > center:nth-of-type(2), html > body > div:first-of-type > div:nth-of-type(2) > div > div:nth-of-type(5) > div > table > tbody > tr:first-of-type > td > div > div:first-of-type > div > table > tbody > tr > td > div:nth-of-type(2) > center:nth-of-type(4) > center:nth-of-type(8) > center:nth-of-type(3), html > body > div:first-of-type > div:nth-of-type(2) > div > div:nth-of-type(5) > div > table > tbody > tr:first-of-type > td > div > div:first-of-type > div > table > tbody > tr > td > div:nth-of-type(2) > center:nth-of-type(4) > center:nth-of-type(8) > center:nth-of-type(4)\",\n",
    "    \"html > body > div:first-of-type > div:nth-of-type(2) > div > div:nth-of-type(5) > div > table > tbody > tr:first-of-type > td > div > div:first-of-type > div > table > tbody > tr > td > div:nth-of-type(2) > center:nth-of-type(4) > center:nth-of-type(8) > div\"\n",
    ")"
   ]
  },
  {
   "cell_type": "markdown",
   "metadata": {},
   "source": [
    "note: there are some missing values so query the rows having either its page header and page text content columns empty values"
   ]
  }
 ],
 "metadata": {
  "kernelspec": {
   "display_name": "Python 3.9.12 ('mldev')",
   "language": "python",
   "name": "python3"
  },
  "language_info": {
   "codemirror_mode": {
    "name": "ipython",
    "version": 3
   },
   "file_extension": ".py",
   "mimetype": "text/x-python",
   "name": "python",
   "nbconvert_exporter": "python",
   "pygments_lexer": "ipython3",
   "version": "3.9.12"
  },
  "orig_nbformat": 4,
  "vscode": {
   "interpreter": {
    "hash": "c6a5db7e3898f1ec047ffa0fd6d9251e59e457cf985271d4a44d24323efb77a1"
   }
  }
 },
 "nbformat": 4,
 "nbformat_minor": 2
}
