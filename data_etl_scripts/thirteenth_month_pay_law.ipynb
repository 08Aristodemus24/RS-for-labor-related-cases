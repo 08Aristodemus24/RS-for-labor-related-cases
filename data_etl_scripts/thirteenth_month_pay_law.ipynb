{
 "cells": [
  {
   "cell_type": "markdown",
   "metadata": {},
   "source": [
    "# 13th Month Pay Law"
   ]
  },
  {
   "cell_type": "markdown",
   "metadata": {},
   "source": [
    "## import libraries"
   ]
  },
  {
   "cell_type": "code",
   "execution_count": 1,
   "metadata": {},
   "outputs": [],
   "source": [
    "from selenium.webdriver.chrome.service import Service\n",
    "from selenium.webdriver.common.by import By\n",
    "from selenium import webdriver\n",
    "import pandas as pd\n",
    "import test"
   ]
  },
  {
   "cell_type": "markdown",
   "metadata": {},
   "source": [
    "## setup driver"
   ]
  },
  {
   "cell_type": "code",
   "execution_count": 2,
   "metadata": {},
   "outputs": [],
   "source": [
    "PATH = \"C:\\Program Files (x86)\\Chrome Driver\\chromedriver.exe\"\n",
    "service = Service(executable_path=PATH)\n",
    "driver = webdriver.Chrome(service=service)\n",
    "\n",
    "# used so that everytime browser updates there is no need for downloading a new\n",
    "# version of the chromedriver.exe application to match version of newly updated browser\n",
    "# from webdriver_manager.chrome import ChromeDriverManager\n",
    "# service = Service(executable_path=ChromeDriverManager().install())"
   ]
  },
  {
   "cell_type": "code",
   "execution_count": 3,
   "metadata": {},
   "outputs": [],
   "source": [
    "link_details = test.collect_link_details(\n",
    "    driver,\n",
    "    \"https://www.chanrobles.com/13thmonthpaylaw.html\",\n",
    "    \"html > body > div:first-of-type > div:nth-of-type(2) > div > div:nth-of-type(5) > div > table > tbody > tr:first-of-type > td > div > div:first-of-type > div > table > tbody > tr > td > div:nth-of-type(2) > center:nth-of-type(2) > center:nth-of-type(2)\"\n",
    ")"
   ]
  },
  {
   "cell_type": "code",
   "execution_count": 4,
   "metadata": {},
   "outputs": [
    {
     "data": {
      "text/html": [
       "<div>\n",
       "<style scoped>\n",
       "    .dataframe tbody tr th:only-of-type {\n",
       "        vertical-align: middle;\n",
       "    }\n",
       "\n",
       "    .dataframe tbody tr th {\n",
       "        vertical-align: top;\n",
       "    }\n",
       "\n",
       "    .dataframe thead th {\n",
       "        text-align: right;\n",
       "    }\n",
       "</style>\n",
       "<table border=\"1\" class=\"dataframe\">\n",
       "  <thead>\n",
       "    <tr style=\"text-align: right;\">\n",
       "      <th></th>\n",
       "      <th>link_text</th>\n",
       "      <th>href</th>\n",
       "    </tr>\n",
       "  </thead>\n",
       "  <tbody>\n",
       "    <tr>\n",
       "      <th>0</th>\n",
       "      <td>The 13th-Month Pay Law (Presidential Decree No...</td>\n",
       "      <td>https://www.chanrobles.com/presidentialdecreen...</td>\n",
       "    </tr>\n",
       "    <tr>\n",
       "      <th>1</th>\n",
       "      <td>The 13th-Month Pay Law - Implementing Rules</td>\n",
       "      <td>https://www.chanrobles.com/presidentialdecreen...</td>\n",
       "    </tr>\n",
       "    <tr>\n",
       "      <th>2</th>\n",
       "      <td>The 13th-Month Pay Law - Supplementary Rules</td>\n",
       "      <td>https://www.chanrobles.com/presidentialdecreen...</td>\n",
       "    </tr>\n",
       "    <tr>\n",
       "      <th>3</th>\n",
       "      <td>The 13th-Month Pay Law - Guidelines (Administr...</td>\n",
       "      <td>https://www.chanrobles.com/presidentialdecreen...</td>\n",
       "    </tr>\n",
       "    <tr>\n",
       "      <th>4</th>\n",
       "      <td>Revised Guidelines on the Implementation of th...</td>\n",
       "      <td>https://www.chanrobles.com/revised13thmonthpay...</td>\n",
       "    </tr>\n",
       "  </tbody>\n",
       "</table>\n",
       "</div>"
      ],
      "text/plain": [
       "                                           link_text  \\\n",
       "0  The 13th-Month Pay Law (Presidential Decree No...   \n",
       "1        The 13th-Month Pay Law - Implementing Rules   \n",
       "2       The 13th-Month Pay Law - Supplementary Rules   \n",
       "3  The 13th-Month Pay Law - Guidelines (Administr...   \n",
       "4  Revised Guidelines on the Implementation of th...   \n",
       "\n",
       "                                                href  \n",
       "0  https://www.chanrobles.com/presidentialdecreen...  \n",
       "1  https://www.chanrobles.com/presidentialdecreen...  \n",
       "2  https://www.chanrobles.com/presidentialdecreen...  \n",
       "3  https://www.chanrobles.com/presidentialdecreen...  \n",
       "4  https://www.chanrobles.com/revised13thmonthpay...  "
      ]
     },
     "execution_count": 4,
     "metadata": {},
     "output_type": "execute_result"
    }
   ],
   "source": [
    "link_details"
   ]
  },
  {
   "cell_type": "markdown",
   "metadata": {},
   "source": [
    "# Main\n",
    "\n",
    "header: html > body > div:first-of-type > div:nth-of-type(2) > div > div:nth-of-type(5) > div > table > tbody > tr:first-of-type > td > div > div:first-of-type > div > table > tbody > tr > td > div:nth-of-type(2) > center:nth-of-type(4) > center:nth-of-type(2), html > body > div:first-of-type > div:nth-of-type(2) > div > div:nth-of-type(5) > div > table > tbody > tr:first-of-type > td > div > div:first-of-type > div > table > tbody > tr > td > div:nth-of-type(2) > center:nth-of-type(4) > center:nth-of-type(3), html > body > div:first-of-type > div:nth-of-type(2) > div > div:nth-of-type(5) > div > table > tbody > tr:first-of-type > td > div > div:first-of-type > div > table > tbody > tr > td > div:nth-of-type(2) > center:nth-of-type(4) > center:nth-of-type(4), html > body > div:first-of-type > div:nth-of-type(2) > div > div:nth-of-type(5) > div > table > tbody > tr:first-of-type > td > div > div:first-of-type > div > table > tbody > tr > td > div:nth-of-type(2) > center:nth-of-type(4) > center:nth-of-type(8) > center:nth-of-type(2), html > body > div:first-of-type > div:nth-of-type(2) > div > div:nth-of-type(5) > div > table > tbody > tr:first-of-type > td > div > div:first-of-type > div > table > tbody > tr > td > div:nth-of-type(2) > center:nth-of-type(4) > center:nth-of-type(8) > center:nth-of-type(3), html > body > div:first-of-type > div:nth-of-type(2) > div > div:nth-of-type(5) > div > table > tbody > tr:first-of-type > td > div > div:first-of-type > div > table > tbody > tr > td > div:nth-of-type(2) > center:nth-of-type(4) > center:nth-of-type(8) > center:nth-of-type(4)\n",
    "\n",
    "text content: html > body > div:first-of-type > div:nth-of-type(2) > div > div:nth-of-type(5) > div > table > tbody > tr:first-of-type > td > div > div:first-of-type > div > table > tbody > tr > td > div:nth-of-type(2) > center:nth-of-type(4) > center:nth-of-type(8) > div"
   ]
  },
  {
   "cell_type": "code",
   "execution_count": 5,
   "metadata": {},
   "outputs": [
    {
     "name": "stdout",
     "output_type": "stream",
     "text": [
      "Wait value: True\n",
      "Page title: THE 13TH-MONTH PAY LAW - CHAN ROBLES VIRTUAL LAW LIBRARY\n",
      "\n",
      "Header: This web page features the full text of Presidential Decree No. 851 THE 13TH MONTH PAY LAW PRESIDENTIAL DECREE NO. 851   REQUIRING ALL EMPLOYERS TO PAY THEIR EMPLOYEES A 13th-MONTH PAY\n",
      "Text content: WHEREAS, it is necessary to further protect the level of real wages from the ravage of worldwide inflation;\n",
      "\n",
      "WHEREAS, there has been no increase in the legal minimum wage rates since 1970;\n",
      "\n",
      "WHEREAS, the Christmas season is an opportune time for society to show its concern for the plight of the working masses so they may properly celebrate Christmas and New Year.\n",
      "\n",
      "NOW, THEREFORE, I, FERDINAND E. MARCOS, by virtue of the powers vested in me by the Constitution, do hereby decree as follows:chanroblesvirtuallawlibrary\n",
      "\n",
      "Section 1. All employers are hereby required to pay all their employees receiving a basic salary of not more than P1,000 a month, regardless of the nature of their employment, a 13th-month pay not later than December 24 of every year.\n",
      "\n",
      "Sec. 2. Employers already paying their employees a 13th-month pay or its equivalent are not covered by this Decree.\n",
      "\n",
      "Sec. 3. This Decree shall take effect immediately.\n",
      "\n",
      "Done in the City of Manila, this 16th day of December 1975.\n",
      "\n",
      "\n",
      "will go to next link\n",
      "Wait value: True\n",
      "Page title: RULES IMPLEMENTING THE 13TH-MONTH PAY LAW - CHAN ROBLES VIRTUAL LAW LIBRARY\n",
      "\n",
      "Error Message: no such element: Unable to locate element: {\"method\":\"css selector\",\"selector\":\"html > body > div:first-of-type > div:nth-of-type(2) > div > div:nth-of-type(5) > div > table > tbody > tr:first-of-type > td > div > div:first-of-type > div > table > tbody > tr > td > div:nth-of-type(2) > center:nth-of-type(4) > center:nth-of-type(8) > div\"}\n",
      "  (Session info: chrome=106.0.5249.121)\n",
      "Stacktrace:\n",
      "Backtrace:\n",
      "\tOrdinal0 [0x002D1ED3+2236115]\n",
      "\tOrdinal0 [0x002692F1+1807089]\n",
      "\tOrdinal0 [0x001766FD+812797]\n",
      "\tOrdinal0 [0x001A55DF+1005023]\n",
      "\tOrdinal0 [0x001A57CB+1005515]\n",
      "\tOrdinal0 [0x001D7632+1209906]\n",
      "\tOrdinal0 [0x001C1AD4+1120980]\n",
      "\tOrdinal0 [0x001D59E2+1202658]\n",
      "\tOrdinal0 [0x001C18A6+1120422]\n",
      "\tOrdinal0 [0x0019A73D+960317]\n",
      "\tOrdinal0 [0x0019B71F+964383]\n",
      "\tGetHandleVerifier [0x0057E7E2+2743074]\n",
      "\tGetHandleVerifier [0x005708D4+2685972]\n",
      "\tGetHandleVerifier [0x00362BAA+532202]\n",
      "\tGetHandleVerifier [0x00361990+527568]\n",
      "\tOrdinal0 [0x0027080C+1837068]\n",
      "\tOrdinal0 [0x00274CD8+1854680]\n",
      "\tOrdinal0 [0x00274DC5+1854917]\n",
      "\tOrdinal0 [0x0027ED64+1895780]\n",
      "\tBaseThreadInitThunk [0x76E66359+25]\n",
      "\tRtlGetAppContainerNamedObjectPath [0x774C7B74+228]\n",
      "\tRtlGetAppContainerNamedObjectPath [0x774C7B44+180]\n",
      "\t(No symbol) [0x00000000]\n",
      " has occured\n",
      "will go to next link\n",
      "Wait value: True\n",
      "Page title: SUPPLEMENTARY RULES IMPLEMENTING THE 13TH-MONTH PAY LAW - CHAN ROBLES VIRTUAL LAW LIBRARY\n",
      "\n",
      "Error Message: no such element: Unable to locate element: {\"method\":\"css selector\",\"selector\":\"html > body > div:first-of-type > div:nth-of-type(2) > div > div:nth-of-type(5) > div > table > tbody > tr:first-of-type > td > div > div:first-of-type > div > table > tbody > tr > td > div:nth-of-type(2) > center:nth-of-type(4) > center:nth-of-type(8) > div\"}\n",
      "  (Session info: chrome=106.0.5249.121)\n",
      "Stacktrace:\n",
      "Backtrace:\n",
      "\tOrdinal0 [0x002D1ED3+2236115]\n",
      "\tOrdinal0 [0x002692F1+1807089]\n",
      "\tOrdinal0 [0x001766FD+812797]\n",
      "\tOrdinal0 [0x001A55DF+1005023]\n",
      "\tOrdinal0 [0x001A57CB+1005515]\n",
      "\tOrdinal0 [0x001D7632+1209906]\n",
      "\tOrdinal0 [0x001C1AD4+1120980]\n",
      "\tOrdinal0 [0x001D59E2+1202658]\n",
      "\tOrdinal0 [0x001C18A6+1120422]\n",
      "\tOrdinal0 [0x0019A73D+960317]\n",
      "\tOrdinal0 [0x0019B71F+964383]\n",
      "\tGetHandleVerifier [0x0057E7E2+2743074]\n",
      "\tGetHandleVerifier [0x005708D4+2685972]\n",
      "\tGetHandleVerifier [0x00362BAA+532202]\n",
      "\tGetHandleVerifier [0x00361990+527568]\n",
      "\tOrdinal0 [0x0027080C+1837068]\n",
      "\tOrdinal0 [0x00274CD8+1854680]\n",
      "\tOrdinal0 [0x00274DC5+1854917]\n",
      "\tOrdinal0 [0x0027ED64+1895780]\n",
      "\tBaseThreadInitThunk [0x76E66359+25]\n",
      "\tRtlGetAppContainerNamedObjectPath [0x774C7B74+228]\n",
      "\tRtlGetAppContainerNamedObjectPath [0x774C7B44+180]\n",
      "\t(No symbol) [0x00000000]\n",
      " has occured\n",
      "will go to next link\n",
      "Wait value: True\n",
      "Page title: GUIDELINES ON THE IMPLEMENTATION OF THE 13TH-MONTH PAY LAW - CHAN ROBLES VIRTUAL LAW LIBRARY\n",
      "\n",
      "Error Message: no such element: Unable to locate element: {\"method\":\"css selector\",\"selector\":\"html > body > div:first-of-type > div:nth-of-type(2) > div > div:nth-of-type(5) > div > table > tbody > tr:first-of-type > td > div > div:first-of-type > div > table > tbody > tr > td > div:nth-of-type(2) > center:nth-of-type(4) > center:nth-of-type(8) > div\"}\n",
      "  (Session info: chrome=106.0.5249.121)\n",
      "Stacktrace:\n",
      "Backtrace:\n",
      "\tOrdinal0 [0x002D1ED3+2236115]\n",
      "\tOrdinal0 [0x002692F1+1807089]\n",
      "\tOrdinal0 [0x001766FD+812797]\n",
      "\tOrdinal0 [0x001A55DF+1005023]\n",
      "\tOrdinal0 [0x001A57CB+1005515]\n",
      "\tOrdinal0 [0x001D7632+1209906]\n",
      "\tOrdinal0 [0x001C1AD4+1120980]\n",
      "\tOrdinal0 [0x001D59E2+1202658]\n",
      "\tOrdinal0 [0x001C18A6+1120422]\n",
      "\tOrdinal0 [0x0019A73D+960317]\n",
      "\tOrdinal0 [0x0019B71F+964383]\n",
      "\tGetHandleVerifier [0x0057E7E2+2743074]\n",
      "\tGetHandleVerifier [0x005708D4+2685972]\n",
      "\tGetHandleVerifier [0x00362BAA+532202]\n",
      "\tGetHandleVerifier [0x00361990+527568]\n",
      "\tOrdinal0 [0x0027080C+1837068]\n",
      "\tOrdinal0 [0x00274CD8+1854680]\n",
      "\tOrdinal0 [0x00274DC5+1854917]\n",
      "\tOrdinal0 [0x0027ED64+1895780]\n",
      "\tBaseThreadInitThunk [0x76E66359+25]\n",
      "\tRtlGetAppContainerNamedObjectPath [0x774C7B74+228]\n",
      "\tRtlGetAppContainerNamedObjectPath [0x774C7B44+180]\n",
      "\t(No symbol) [0x00000000]\n",
      " has occured\n",
      "will go to next link\n",
      "Wait value: True\n",
      "Page title: REVISED GUIDELINES ON THE IMPLEMENTATION OF THE 13TH MONTH PAY LAW - CHAN ROBLES VIRTUAL LAW LIBRARY\n",
      "\n",
      "Error Message: no such element: Unable to locate element: {\"method\":\"css selector\",\"selector\":\"html > body > div:first-of-type > div:nth-of-type(2) > div > div:nth-of-type(5) > div > table > tbody > tr:first-of-type > td > div > div:first-of-type > div > table > tbody > tr > td > div:nth-of-type(2) > center:nth-of-type(4) > center:nth-of-type(8) > div\"}\n",
      "  (Session info: chrome=106.0.5249.121)\n",
      "Stacktrace:\n",
      "Backtrace:\n",
      "\tOrdinal0 [0x002D1ED3+2236115]\n",
      "\tOrdinal0 [0x002692F1+1807089]\n",
      "\tOrdinal0 [0x001766FD+812797]\n",
      "\tOrdinal0 [0x001A55DF+1005023]\n",
      "\tOrdinal0 [0x001A57CB+1005515]\n",
      "\tOrdinal0 [0x001D7632+1209906]\n",
      "\tOrdinal0 [0x001C1AD4+1120980]\n",
      "\tOrdinal0 [0x001D59E2+1202658]\n",
      "\tOrdinal0 [0x001C18A6+1120422]\n",
      "\tOrdinal0 [0x0019A73D+960317]\n",
      "\tOrdinal0 [0x0019B71F+964383]\n",
      "\tGetHandleVerifier [0x0057E7E2+2743074]\n",
      "\tGetHandleVerifier [0x005708D4+2685972]\n",
      "\tGetHandleVerifier [0x00362BAA+532202]\n",
      "\tGetHandleVerifier [0x00361990+527568]\n",
      "\tOrdinal0 [0x0027080C+1837068]\n",
      "\tOrdinal0 [0x00274CD8+1854680]\n",
      "\tOrdinal0 [0x00274DC5+1854917]\n",
      "\tOrdinal0 [0x0027ED64+1895780]\n",
      "\tBaseThreadInitThunk [0x76E66359+25]\n",
      "\tRtlGetAppContainerNamedObjectPath [0x774C7B74+228]\n",
      "\tRtlGetAppContainerNamedObjectPath [0x774C7B44+180]\n",
      "\t(No symbol) [0x00000000]\n",
      " has occured\n",
      "will go to next link\n",
      "number of total links: 5\n",
      "number of accepted links: 1\n",
      "number of reject links: 4\n",
      "\n",
      "['https://www.chanrobles.com/presidentialdecreeno851.htm']\n",
      "['https://www.chanrobles.com/presidentialdecreeno851rules.htm', 'https://www.chanrobles.com/presidentialdecreeno851supplementaryrules.htm', 'https://www.chanrobles.com/presidentialdecreeno851guidelines.htm', 'https://www.chanrobles.com/revised13thmonthpayguidelines.htm']\n"
     ]
    }
   ],
   "source": [
    "page_details = test.collect_content(\n",
    "    driver,\n",
    "    link_details['href'],\n",
    "    \"html > body > div:first-of-type > div:nth-of-type(2) > div > div:nth-of-type(5) > div > table > tbody > tr:first-of-type > td > div > div:first-of-type > div > table > tbody > tr > td > div:nth-of-type(2) > center:nth-of-type(4) > center:nth-of-type(2), html > body > div:first-of-type > div:nth-of-type(2) > div > div:nth-of-type(5) > div > table > tbody > tr:first-of-type > td > div > div:first-of-type > div > table > tbody > tr > td > div:nth-of-type(2) > center:nth-of-type(4) > center:nth-of-type(3), html > body > div:first-of-type > div:nth-of-type(2) > div > div:nth-of-type(5) > div > table > tbody > tr:first-of-type > td > div > div:first-of-type > div > table > tbody > tr > td > div:nth-of-type(2) > center:nth-of-type(4) > center:nth-of-type(4), html > body > div:first-of-type > div:nth-of-type(2) > div > div:nth-of-type(5) > div > table > tbody > tr:first-of-type > td > div > div:first-of-type > div > table > tbody > tr > td > div:nth-of-type(2) > center:nth-of-type(4) > center:nth-of-type(8) > center:nth-of-type(2), html > body > div:first-of-type > div:nth-of-type(2) > div > div:nth-of-type(5) > div > table > tbody > tr:first-of-type > td > div > div:first-of-type > div > table > tbody > tr > td > div:nth-of-type(2) > center:nth-of-type(4) > center:nth-of-type(8) > center:nth-of-type(3), html > body > div:first-of-type > div:nth-of-type(2) > div > div:nth-of-type(5) > div > table > tbody > tr:first-of-type > td > div > div:first-of-type > div > table > tbody > tr > td > div:nth-of-type(2) > center:nth-of-type(4) > center:nth-of-type(8) > center:nth-of-type(4)\",\n",
    "    \"html > body > div:first-of-type > div:nth-of-type(2) > div > div:nth-of-type(5) > div > table > tbody > tr:first-of-type > td > div > div:first-of-type > div > table > tbody > tr > td > div:nth-of-type(2) > center:nth-of-type(4) > center:nth-of-type(8) > div\"\n",
    ")"
   ]
  },
  {
   "cell_type": "markdown",
   "metadata": {},
   "source": [
    "# Export DataFrame object to excel\n",
    "\n",
    "Parsing by code seems to be a lot slower than copy and pasting one by one in each page"
   ]
  },
  {
   "cell_type": "code",
   "execution_count": 6,
   "metadata": {},
   "outputs": [
    {
     "data": {
      "text/html": [
       "<div>\n",
       "<style scoped>\n",
       "    .dataframe tbody tr th:only-of-type {\n",
       "        vertical-align: middle;\n",
       "    }\n",
       "\n",
       "    .dataframe tbody tr th {\n",
       "        vertical-align: top;\n",
       "    }\n",
       "\n",
       "    .dataframe thead th {\n",
       "        text-align: right;\n",
       "    }\n",
       "</style>\n",
       "<table border=\"1\" class=\"dataframe\">\n",
       "  <thead>\n",
       "    <tr style=\"text-align: right;\">\n",
       "      <th></th>\n",
       "      <th>link_text</th>\n",
       "      <th>href</th>\n",
       "    </tr>\n",
       "  </thead>\n",
       "  <tbody>\n",
       "    <tr>\n",
       "      <th>0</th>\n",
       "      <td>The 13th-Month Pay Law (Presidential Decree No...</td>\n",
       "      <td>https://www.chanrobles.com/presidentialdecreen...</td>\n",
       "    </tr>\n",
       "    <tr>\n",
       "      <th>1</th>\n",
       "      <td>The 13th-Month Pay Law - Implementing Rules</td>\n",
       "      <td>https://www.chanrobles.com/presidentialdecreen...</td>\n",
       "    </tr>\n",
       "    <tr>\n",
       "      <th>2</th>\n",
       "      <td>The 13th-Month Pay Law - Supplementary Rules</td>\n",
       "      <td>https://www.chanrobles.com/presidentialdecreen...</td>\n",
       "    </tr>\n",
       "    <tr>\n",
       "      <th>3</th>\n",
       "      <td>The 13th-Month Pay Law - Guidelines (Administr...</td>\n",
       "      <td>https://www.chanrobles.com/presidentialdecreen...</td>\n",
       "    </tr>\n",
       "    <tr>\n",
       "      <th>4</th>\n",
       "      <td>Revised Guidelines on the Implementation of th...</td>\n",
       "      <td>https://www.chanrobles.com/revised13thmonthpay...</td>\n",
       "    </tr>\n",
       "  </tbody>\n",
       "</table>\n",
       "</div>"
      ],
      "text/plain": [
       "                                           link_text  \\\n",
       "0  The 13th-Month Pay Law (Presidential Decree No...   \n",
       "1        The 13th-Month Pay Law - Implementing Rules   \n",
       "2       The 13th-Month Pay Law - Supplementary Rules   \n",
       "3  The 13th-Month Pay Law - Guidelines (Administr...   \n",
       "4  Revised Guidelines on the Implementation of th...   \n",
       "\n",
       "                                                href  \n",
       "0  https://www.chanrobles.com/presidentialdecreen...  \n",
       "1  https://www.chanrobles.com/presidentialdecreen...  \n",
       "2  https://www.chanrobles.com/presidentialdecreen...  \n",
       "3  https://www.chanrobles.com/presidentialdecreen...  \n",
       "4  https://www.chanrobles.com/revised13thmonthpay...  "
      ]
     },
     "execution_count": 6,
     "metadata": {},
     "output_type": "execute_result"
    }
   ],
   "source": [
    "link_details"
   ]
  },
  {
   "cell_type": "code",
   "execution_count": 7,
   "metadata": {},
   "outputs": [
    {
     "data": {
      "text/plain": [
       "'https://www.chanrobles.com/presidentialdecreeno851.htm'"
      ]
     },
     "execution_count": 7,
     "metadata": {},
     "output_type": "execute_result"
    }
   ],
   "source": [
    "link_details['href'][0]"
   ]
  },
  {
   "cell_type": "code",
   "execution_count": 8,
   "metadata": {},
   "outputs": [
    {
     "name": "stdout",
     "output_type": "stream",
     "text": [
      "Wait value: True\n",
      "Page title: THE 13TH-MONTH PAY LAW - CHAN ROBLES VIRTUAL LAW LIBRARY\n",
      "\n",
      "will go to next link\n"
     ]
    },
    {
     "ename": "InvalidSelectorException",
     "evalue": "Message: invalid selector: An invalid or illegal selector was specified\n  (Session info: chrome=106.0.5249.121)\nStacktrace:\nBacktrace:\n\tOrdinal0 [0x002D1ED3+2236115]\n\tOrdinal0 [0x002692F1+1807089]\n\tOrdinal0 [0x001766FD+812797]\n\tOrdinal0 [0x001792B4+823988]\n\tOrdinal0 [0x00179165+823653]\n\tOrdinal0 [0x00179400+824320]\n\tOrdinal0 [0x001A5352+1004370]\n\tOrdinal0 [0x001A57CB+1005515]\n\tOrdinal0 [0x001D766C+1209964]\n\tOrdinal0 [0x001C1AD4+1120980]\n\tOrdinal0 [0x001D59E2+1202658]\n\tOrdinal0 [0x001C18A6+1120422]\n\tOrdinal0 [0x0019A73D+960317]\n\tOrdinal0 [0x0019B71F+964383]\n\tGetHandleVerifier [0x0057E7E2+2743074]\n\tGetHandleVerifier [0x005708D4+2685972]\n\tGetHandleVerifier [0x00362BAA+532202]\n\tGetHandleVerifier [0x00361990+527568]\n\tOrdinal0 [0x0027080C+1837068]\n\tOrdinal0 [0x00274CD8+1854680]\n\tOrdinal0 [0x00274DC5+1854917]\n\tOrdinal0 [0x0027ED64+1895780]\n\tBaseThreadInitThunk [0x76E66359+25]\n\tRtlGetAppContainerNamedObjectPath [0x774C7B74+228]\n\tRtlGetAppContainerNamedObjectPath [0x774C7B44+180]\n\t(No symbol) [0x00000000]\n",
     "output_type": "error",
     "traceback": [
      "\u001b[1;31m---------------------------------------------------------------------------\u001b[0m",
      "\u001b[1;31mInvalidSelectorException\u001b[0m                  Traceback (most recent call last)",
      "\u001b[1;32mc:\\Users\\Mig\\Desktop\\projects\\RS_for_labor_related_cases\\data_etl_scripts\\thirteenth_month_pay_law.ipynb Cell 13\u001b[0m in \u001b[0;36m<cell line: 10>\u001b[1;34m()\u001b[0m\n\u001b[0;32m      <a href='vscode-notebook-cell:/c%3A/Users/Mig/Desktop/projects/RS_for_labor_related_cases/data_etl_scripts/thirteenth_month_pay_law.ipynb#X15sZmlsZQ%3D%3D?line=0'>1</a>\u001b[0m page_headers \u001b[39m=\u001b[39m [\n\u001b[0;32m      <a href='vscode-notebook-cell:/c%3A/Users/Mig/Desktop/projects/RS_for_labor_related_cases/data_etl_scripts/thirteenth_month_pay_law.ipynb#X15sZmlsZQ%3D%3D?line=1'>2</a>\u001b[0m     \u001b[39m'\u001b[39m\u001b[39mPRESIDENTIAL DECREE NO. 851 REQUIRING ALL EMPLOYERS TO PAY THEIR EMPLOYEES A 13th-MONTH PAY\u001b[39m\u001b[39m'\u001b[39m,\n\u001b[0;32m      <a href='vscode-notebook-cell:/c%3A/Users/Mig/Desktop/projects/RS_for_labor_related_cases/data_etl_scripts/thirteenth_month_pay_law.ipynb#X15sZmlsZQ%3D%3D?line=2'>3</a>\u001b[0m     \u001b[39m'\u001b[39m\u001b[39mPRESIDENTIAL DECREE NO. 851 RULES AND REGULATIONS IMPLEMENTING PRESIDENTIAL DECREE NO. 851\u001b[39m\u001b[39m'\u001b[39m,\n\u001b[1;32m   (...)\u001b[0m\n\u001b[0;32m      <a href='vscode-notebook-cell:/c%3A/Users/Mig/Desktop/projects/RS_for_labor_related_cases/data_etl_scripts/thirteenth_month_pay_law.ipynb#X15sZmlsZQ%3D%3D?line=5'>6</a>\u001b[0m     \u001b[39m'\u001b[39m\u001b[39mREVISED GUIDELINES ON THE IMPLEMENTATION OF THE 13TH MONTH PAY LAW.\u001b[39m\u001b[39m'\u001b[39m\n\u001b[0;32m      <a href='vscode-notebook-cell:/c%3A/Users/Mig/Desktop/projects/RS_for_labor_related_cases/data_etl_scripts/thirteenth_month_pay_law.ipynb#X15sZmlsZQ%3D%3D?line=6'>7</a>\u001b[0m ]\n\u001b[0;32m      <a href='vscode-notebook-cell:/c%3A/Users/Mig/Desktop/projects/RS_for_labor_related_cases/data_etl_scripts/thirteenth_month_pay_law.ipynb#X15sZmlsZQ%3D%3D?line=8'>9</a>\u001b[0m page_text_content \u001b[39m=\u001b[39m [\n\u001b[1;32m---> <a href='vscode-notebook-cell:/c%3A/Users/Mig/Desktop/projects/RS_for_labor_related_cases/data_etl_scripts/thirteenth_month_pay_law.ipynb#X15sZmlsZQ%3D%3D?line=9'>10</a>\u001b[0m     test\u001b[39m.\u001b[39;49mcollect_content_individually(\n\u001b[0;32m     <a href='vscode-notebook-cell:/c%3A/Users/Mig/Desktop/projects/RS_for_labor_related_cases/data_etl_scripts/thirteenth_month_pay_law.ipynb#X15sZmlsZQ%3D%3D?line=10'>11</a>\u001b[0m         driver, \n\u001b[0;32m     <a href='vscode-notebook-cell:/c%3A/Users/Mig/Desktop/projects/RS_for_labor_related_cases/data_etl_scripts/thirteenth_month_pay_law.ipynb#X15sZmlsZQ%3D%3D?line=11'>12</a>\u001b[0m         link_details[\u001b[39m'\u001b[39;49m\u001b[39mhref\u001b[39;49m\u001b[39m'\u001b[39;49m][\u001b[39m0\u001b[39;49m], \n\u001b[0;32m     <a href='vscode-notebook-cell:/c%3A/Users/Mig/Desktop/projects/RS_for_labor_related_cases/data_etl_scripts/thirteenth_month_pay_law.ipynb#X15sZmlsZQ%3D%3D?line=12'>13</a>\u001b[0m         text_content_selector\u001b[39m=\u001b[39;49m\u001b[39m\"\u001b[39;49m\u001b[39mhtml > body > div:first-of-type > div:nth-of-type(2) > div > div:nth-of-type(5) > div > table > tbody > tr:first-of-type > td > div > div:first-of-type > div > table > tbody > tr > td > div:nth-of-type(2) > center:nth-of-type(4) > center:nth-of-type(8) > div\u001b[39;49m\u001b[39m\"\u001b[39;49m\n\u001b[0;32m     <a href='vscode-notebook-cell:/c%3A/Users/Mig/Desktop/projects/RS_for_labor_related_cases/data_etl_scripts/thirteenth_month_pay_law.ipynb#X15sZmlsZQ%3D%3D?line=13'>14</a>\u001b[0m     ),\n\u001b[0;32m     <a href='vscode-notebook-cell:/c%3A/Users/Mig/Desktop/projects/RS_for_labor_related_cases/data_etl_scripts/thirteenth_month_pay_law.ipynb#X15sZmlsZQ%3D%3D?line=14'>15</a>\u001b[0m     test\u001b[39m.\u001b[39mcollect_content_individually(\n\u001b[0;32m     <a href='vscode-notebook-cell:/c%3A/Users/Mig/Desktop/projects/RS_for_labor_related_cases/data_etl_scripts/thirteenth_month_pay_law.ipynb#X15sZmlsZQ%3D%3D?line=15'>16</a>\u001b[0m         driver,\n\u001b[0;32m     <a href='vscode-notebook-cell:/c%3A/Users/Mig/Desktop/projects/RS_for_labor_related_cases/data_etl_scripts/thirteenth_month_pay_law.ipynb#X15sZmlsZQ%3D%3D?line=16'>17</a>\u001b[0m         link_details[\u001b[39m'\u001b[39m\u001b[39mhref\u001b[39m\u001b[39m'\u001b[39m][\u001b[39m1\u001b[39m],\n\u001b[0;32m     <a href='vscode-notebook-cell:/c%3A/Users/Mig/Desktop/projects/RS_for_labor_related_cases/data_etl_scripts/thirteenth_month_pay_law.ipynb#X15sZmlsZQ%3D%3D?line=17'>18</a>\u001b[0m         text_content_selector\u001b[39m=\u001b[39m\u001b[39m\"\u001b[39m\u001b[39mhtml > body > div:first-of-type > div:nth-of-type(2) > div > div:nth-of-type(5) > div > table > tbody > tr:first-of-type > td > div > div:first-of-type > div > table > tbody > tr > td > div:nth-of-type(2) > center:nth-of-type(4) > center:nth-of-type(7)\u001b[39m\u001b[39m\"\u001b[39m\n\u001b[0;32m     <a href='vscode-notebook-cell:/c%3A/Users/Mig/Desktop/projects/RS_for_labor_related_cases/data_etl_scripts/thirteenth_month_pay_law.ipynb#X15sZmlsZQ%3D%3D?line=18'>19</a>\u001b[0m     ),\n\u001b[0;32m     <a href='vscode-notebook-cell:/c%3A/Users/Mig/Desktop/projects/RS_for_labor_related_cases/data_etl_scripts/thirteenth_month_pay_law.ipynb#X15sZmlsZQ%3D%3D?line=19'>20</a>\u001b[0m     test\u001b[39m.\u001b[39mcollect_content_individually(\n\u001b[0;32m     <a href='vscode-notebook-cell:/c%3A/Users/Mig/Desktop/projects/RS_for_labor_related_cases/data_etl_scripts/thirteenth_month_pay_law.ipynb#X15sZmlsZQ%3D%3D?line=20'>21</a>\u001b[0m         driver,\n\u001b[0;32m     <a href='vscode-notebook-cell:/c%3A/Users/Mig/Desktop/projects/RS_for_labor_related_cases/data_etl_scripts/thirteenth_month_pay_law.ipynb#X15sZmlsZQ%3D%3D?line=21'>22</a>\u001b[0m         link_details[\u001b[39m'\u001b[39m\u001b[39mhref\u001b[39m\u001b[39m'\u001b[39m][\u001b[39m2\u001b[39m],\n\u001b[0;32m     <a href='vscode-notebook-cell:/c%3A/Users/Mig/Desktop/projects/RS_for_labor_related_cases/data_etl_scripts/thirteenth_month_pay_law.ipynb#X15sZmlsZQ%3D%3D?line=22'>23</a>\u001b[0m         text_content_selector\u001b[39m=\u001b[39m\u001b[39m\"\u001b[39m\u001b[39mhtml > body > div:first-of-type > div:nth-of-type(2) > div > div:nth-of-type(5) > div > table > tbody > tr:first-of-type > td > div > div:first-of-type > div > table > tbody > tr > td > div:nth-of-type(2) > center:nth-of-type(4) > center:nth-of-type(7)\u001b[39m\u001b[39m\"\u001b[39m\n\u001b[0;32m     <a href='vscode-notebook-cell:/c%3A/Users/Mig/Desktop/projects/RS_for_labor_related_cases/data_etl_scripts/thirteenth_month_pay_law.ipynb#X15sZmlsZQ%3D%3D?line=23'>24</a>\u001b[0m     ),\n\u001b[0;32m     <a href='vscode-notebook-cell:/c%3A/Users/Mig/Desktop/projects/RS_for_labor_related_cases/data_etl_scripts/thirteenth_month_pay_law.ipynb#X15sZmlsZQ%3D%3D?line=24'>25</a>\u001b[0m     test\u001b[39m.\u001b[39mcollect_content_individually(\n\u001b[0;32m     <a href='vscode-notebook-cell:/c%3A/Users/Mig/Desktop/projects/RS_for_labor_related_cases/data_etl_scripts/thirteenth_month_pay_law.ipynb#X15sZmlsZQ%3D%3D?line=25'>26</a>\u001b[0m         driver,\n\u001b[0;32m     <a href='vscode-notebook-cell:/c%3A/Users/Mig/Desktop/projects/RS_for_labor_related_cases/data_etl_scripts/thirteenth_month_pay_law.ipynb#X15sZmlsZQ%3D%3D?line=26'>27</a>\u001b[0m         link_details[\u001b[39m'\u001b[39m\u001b[39mhref\u001b[39m\u001b[39m'\u001b[39m][\u001b[39m3\u001b[39m],\n\u001b[0;32m     <a href='vscode-notebook-cell:/c%3A/Users/Mig/Desktop/projects/RS_for_labor_related_cases/data_etl_scripts/thirteenth_month_pay_law.ipynb#X15sZmlsZQ%3D%3D?line=27'>28</a>\u001b[0m         text_content_selector\u001b[39m=\u001b[39m\u001b[39m\"\u001b[39m\u001b[39mhtml > body > div:first-of-type > div:nth-of-type(2) > div > div:nth-of-type(5) > div > table > tbody > tr:first-of-type > td > div > div:first-of-type > div > table > tbody > tr > td > div:nth-of-type(2) > center:nth-of-type(4) > center:nth-of-type(7)\u001b[39m\u001b[39m\"\u001b[39m\n\u001b[0;32m     <a href='vscode-notebook-cell:/c%3A/Users/Mig/Desktop/projects/RS_for_labor_related_cases/data_etl_scripts/thirteenth_month_pay_law.ipynb#X15sZmlsZQ%3D%3D?line=28'>29</a>\u001b[0m \n\u001b[0;32m     <a href='vscode-notebook-cell:/c%3A/Users/Mig/Desktop/projects/RS_for_labor_related_cases/data_etl_scripts/thirteenth_month_pay_law.ipynb#X15sZmlsZQ%3D%3D?line=29'>30</a>\u001b[0m     ),\n\u001b[0;32m     <a href='vscode-notebook-cell:/c%3A/Users/Mig/Desktop/projects/RS_for_labor_related_cases/data_etl_scripts/thirteenth_month_pay_law.ipynb#X15sZmlsZQ%3D%3D?line=30'>31</a>\u001b[0m     test\u001b[39m.\u001b[39mcollect_content_individually(\n\u001b[0;32m     <a href='vscode-notebook-cell:/c%3A/Users/Mig/Desktop/projects/RS_for_labor_related_cases/data_etl_scripts/thirteenth_month_pay_law.ipynb#X15sZmlsZQ%3D%3D?line=31'>32</a>\u001b[0m         driver,\n\u001b[0;32m     <a href='vscode-notebook-cell:/c%3A/Users/Mig/Desktop/projects/RS_for_labor_related_cases/data_etl_scripts/thirteenth_month_pay_law.ipynb#X15sZmlsZQ%3D%3D?line=32'>33</a>\u001b[0m         link_details[\u001b[39m'\u001b[39m\u001b[39mhref\u001b[39m\u001b[39m'\u001b[39m][\u001b[39m4\u001b[39m],\n\u001b[0;32m     <a href='vscode-notebook-cell:/c%3A/Users/Mig/Desktop/projects/RS_for_labor_related_cases/data_etl_scripts/thirteenth_month_pay_law.ipynb#X15sZmlsZQ%3D%3D?line=33'>34</a>\u001b[0m         text_content_selector\u001b[39m=\u001b[39m\u001b[39m\"\u001b[39m\u001b[39mhtml > body > div:first-of-type > div:nth-of-type(2) > div > div:nth-of-type(5) > div > table > tbody > tr > td > div:first-of-type > div:nth-of-type(2) > table > tbody > tr > td > div:nth-of-type(2) > center > center:nth-of-type(2) > div\u001b[39m\u001b[39m\"\u001b[39m\n\u001b[0;32m     <a href='vscode-notebook-cell:/c%3A/Users/Mig/Desktop/projects/RS_for_labor_related_cases/data_etl_scripts/thirteenth_month_pay_law.ipynb#X15sZmlsZQ%3D%3D?line=34'>35</a>\u001b[0m     )\n\u001b[0;32m     <a href='vscode-notebook-cell:/c%3A/Users/Mig/Desktop/projects/RS_for_labor_related_cases/data_etl_scripts/thirteenth_month_pay_law.ipynb#X15sZmlsZQ%3D%3D?line=35'>36</a>\u001b[0m ]\n",
      "File \u001b[1;32mc:\\Users\\Mig\\Desktop\\projects\\RS_for_labor_related_cases\\data_etl_scripts\\test.py:93\u001b[0m, in \u001b[0;36mcollect_content_individually\u001b[1;34m(driver, link, header_selector, text_content_selector)\u001b[0m\n\u001b[0;32m     89\u001b[0m \u001b[39mprint\u001b[39m(\u001b[39m\"\u001b[39m\u001b[39mWait value: \u001b[39m\u001b[39m{}\u001b[39;00m\u001b[39m\\n\u001b[39;00m\u001b[39mPage title: \u001b[39m\u001b[39m{}\u001b[39;00m\u001b[39m\\n\u001b[39;00m\u001b[39m\"\u001b[39m\u001b[39m.\u001b[39mformat(wait_val, driver\u001b[39m.\u001b[39mtitle))\n\u001b[0;32m     91\u001b[0m \u001b[39m# grab html elements that contain important header content\u001b[39;00m\n\u001b[0;32m     92\u001b[0m \u001b[39m# exhaust the list returned by appending\u001b[39;00m\n\u001b[1;32m---> 93\u001b[0m header \u001b[39m=\u001b[39m \u001b[39m\"\u001b[39m\u001b[39m \u001b[39m\u001b[39m\"\u001b[39m\u001b[39m.\u001b[39mjoin([element\u001b[39m.\u001b[39mtext \u001b[39mfor\u001b[39;00m element \u001b[39min\u001b[39;00m driver\u001b[39m.\u001b[39;49mfind_elements(By\u001b[39m.\u001b[39;49mCSS_SELECTOR, header_selector)])\n\u001b[0;32m     95\u001b[0m \u001b[39m# grab a single html element only since it cannto be generalized \u001b[39;00m\n\u001b[0;32m     96\u001b[0m \u001b[39m# across multiple pages since the structure may change and some\u001b[39;00m\n\u001b[0;32m     97\u001b[0m \u001b[39m# elements may not be grabbed\u001b[39;00m\n\u001b[0;32m     98\u001b[0m text_content \u001b[39m=\u001b[39m driver\u001b[39m.\u001b[39mfind_element(By\u001b[39m.\u001b[39mCSS_SELECTOR, text_content_selector)\n",
      "File \u001b[1;32mc:\\ProgramData\\Anaconda3\\envs\\mldev\\lib\\site-packages\\selenium\\webdriver\\remote\\webdriver.py:889\u001b[0m, in \u001b[0;36mWebDriver.find_elements\u001b[1;34m(self, by, value)\u001b[0m\n\u001b[0;32m    885\u001b[0m     value \u001b[39m=\u001b[39m \u001b[39m'\u001b[39m\u001b[39m[name=\u001b[39m\u001b[39m\"\u001b[39m\u001b[39m%s\u001b[39;00m\u001b[39m\"\u001b[39m\u001b[39m]\u001b[39m\u001b[39m'\u001b[39m \u001b[39m%\u001b[39m value\n\u001b[0;32m    887\u001b[0m \u001b[39m# Return empty list if driver returns null\u001b[39;00m\n\u001b[0;32m    888\u001b[0m \u001b[39m# See https://github.com/SeleniumHQ/selenium/issues/4555\u001b[39;00m\n\u001b[1;32m--> 889\u001b[0m \u001b[39mreturn\u001b[39;00m \u001b[39mself\u001b[39;49m\u001b[39m.\u001b[39;49mexecute(Command\u001b[39m.\u001b[39;49mFIND_ELEMENTS, {\n\u001b[0;32m    890\u001b[0m     \u001b[39m'\u001b[39;49m\u001b[39musing\u001b[39;49m\u001b[39m'\u001b[39;49m: by,\n\u001b[0;32m    891\u001b[0m     \u001b[39m'\u001b[39;49m\u001b[39mvalue\u001b[39;49m\u001b[39m'\u001b[39;49m: value})[\u001b[39m'\u001b[39m\u001b[39mvalue\u001b[39m\u001b[39m'\u001b[39m] \u001b[39mor\u001b[39;00m []\n",
      "File \u001b[1;32mc:\\ProgramData\\Anaconda3\\envs\\mldev\\lib\\site-packages\\selenium\\webdriver\\remote\\webdriver.py:429\u001b[0m, in \u001b[0;36mWebDriver.execute\u001b[1;34m(self, driver_command, params)\u001b[0m\n\u001b[0;32m    427\u001b[0m response \u001b[39m=\u001b[39m \u001b[39mself\u001b[39m\u001b[39m.\u001b[39mcommand_executor\u001b[39m.\u001b[39mexecute(driver_command, params)\n\u001b[0;32m    428\u001b[0m \u001b[39mif\u001b[39;00m response:\n\u001b[1;32m--> 429\u001b[0m     \u001b[39mself\u001b[39;49m\u001b[39m.\u001b[39;49merror_handler\u001b[39m.\u001b[39;49mcheck_response(response)\n\u001b[0;32m    430\u001b[0m     response[\u001b[39m'\u001b[39m\u001b[39mvalue\u001b[39m\u001b[39m'\u001b[39m] \u001b[39m=\u001b[39m \u001b[39mself\u001b[39m\u001b[39m.\u001b[39m_unwrap_value(\n\u001b[0;32m    431\u001b[0m         response\u001b[39m.\u001b[39mget(\u001b[39m'\u001b[39m\u001b[39mvalue\u001b[39m\u001b[39m'\u001b[39m, \u001b[39mNone\u001b[39;00m))\n\u001b[0;32m    432\u001b[0m     \u001b[39mreturn\u001b[39;00m response\n",
      "File \u001b[1;32mc:\\ProgramData\\Anaconda3\\envs\\mldev\\lib\\site-packages\\selenium\\webdriver\\remote\\errorhandler.py:243\u001b[0m, in \u001b[0;36mErrorHandler.check_response\u001b[1;34m(self, response)\u001b[0m\n\u001b[0;32m    241\u001b[0m         alert_text \u001b[39m=\u001b[39m value[\u001b[39m'\u001b[39m\u001b[39malert\u001b[39m\u001b[39m'\u001b[39m]\u001b[39m.\u001b[39mget(\u001b[39m'\u001b[39m\u001b[39mtext\u001b[39m\u001b[39m'\u001b[39m)\n\u001b[0;32m    242\u001b[0m     \u001b[39mraise\u001b[39;00m exception_class(message, screen, stacktrace, alert_text)  \u001b[39m# type: ignore[call-arg]  # mypy is not smart enough here\u001b[39;00m\n\u001b[1;32m--> 243\u001b[0m \u001b[39mraise\u001b[39;00m exception_class(message, screen, stacktrace)\n",
      "\u001b[1;31mInvalidSelectorException\u001b[0m: Message: invalid selector: An invalid or illegal selector was specified\n  (Session info: chrome=106.0.5249.121)\nStacktrace:\nBacktrace:\n\tOrdinal0 [0x002D1ED3+2236115]\n\tOrdinal0 [0x002692F1+1807089]\n\tOrdinal0 [0x001766FD+812797]\n\tOrdinal0 [0x001792B4+823988]\n\tOrdinal0 [0x00179165+823653]\n\tOrdinal0 [0x00179400+824320]\n\tOrdinal0 [0x001A5352+1004370]\n\tOrdinal0 [0x001A57CB+1005515]\n\tOrdinal0 [0x001D766C+1209964]\n\tOrdinal0 [0x001C1AD4+1120980]\n\tOrdinal0 [0x001D59E2+1202658]\n\tOrdinal0 [0x001C18A6+1120422]\n\tOrdinal0 [0x0019A73D+960317]\n\tOrdinal0 [0x0019B71F+964383]\n\tGetHandleVerifier [0x0057E7E2+2743074]\n\tGetHandleVerifier [0x005708D4+2685972]\n\tGetHandleVerifier [0x00362BAA+532202]\n\tGetHandleVerifier [0x00361990+527568]\n\tOrdinal0 [0x0027080C+1837068]\n\tOrdinal0 [0x00274CD8+1854680]\n\tOrdinal0 [0x00274DC5+1854917]\n\tOrdinal0 [0x0027ED64+1895780]\n\tBaseThreadInitThunk [0x76E66359+25]\n\tRtlGetAppContainerNamedObjectPath [0x774C7B74+228]\n\tRtlGetAppContainerNamedObjectPath [0x774C7B44+180]\n\t(No symbol) [0x00000000]\n"
     ]
    }
   ],
   "source": [
    "page_headers = [\n",
    "    'PRESIDENTIAL DECREE NO. 851 REQUIRING ALL EMPLOYERS TO PAY THEIR EMPLOYEES A 13th-MONTH PAY',\n",
    "    'PRESIDENTIAL DECREE NO. 851 RULES AND REGULATIONS IMPLEMENTING PRESIDENTIAL DECREE NO. 851',\n",
    "    'PRESIDENTIAL DECREE NO. 851 SUPPLEMENTARY RULES AND REGULATIONS IMPLEMENTING P.D. NO. 851',\n",
    "    'ADMINISTRATIVE ORDER NO. 2, SERIES OF 1976 [Guidelines on the Implementation of Presidential Decree No. 851]',\n",
    "    'REVISED GUIDELINES ON THE IMPLEMENTATION OF THE 13TH MONTH PAY LAW.'\n",
    "]\n",
    "\n",
    "page_text_content = [\n",
    "    test.collect_content_individually(\n",
    "        driver, \n",
    "        link_details['href'][0], \n",
    "        text_content_selector=\"html > body > div:first-of-type > div:nth-of-type(2) > div > div:nth-of-type(5) > div > table > tbody > tr:first-of-type > td > div > div:first-of-type > div > table > tbody > tr > td > div:nth-of-type(2) > center:nth-of-type(4) > center:nth-of-type(8) > div\"\n",
    "    ),\n",
    "    test.collect_content_individually(\n",
    "        driver,\n",
    "        link_details['href'][1],\n",
    "        text_content_selector=\"html > body > div:first-of-type > div:nth-of-type(2) > div > div:nth-of-type(5) > div > table > tbody > tr:first-of-type > td > div > div:first-of-type > div > table > tbody > tr > td > div:nth-of-type(2) > center:nth-of-type(4) > center:nth-of-type(7)\"\n",
    "    ),\n",
    "    test.collect_content_individually(\n",
    "        driver,\n",
    "        link_details['href'][2],\n",
    "        text_content_selector=\"html > body > div:first-of-type > div:nth-of-type(2) > div > div:nth-of-type(5) > div > table > tbody > tr:first-of-type > td > div > div:first-of-type > div > table > tbody > tr > td > div:nth-of-type(2) > center:nth-of-type(4) > center:nth-of-type(7)\"\n",
    "    ),\n",
    "    test.collect_content_individually(\n",
    "        driver,\n",
    "        link_details['href'][3],\n",
    "        text_content_selector=\"html > body > div:first-of-type > div:nth-of-type(2) > div > div:nth-of-type(5) > div > table > tbody > tr:first-of-type > td > div > div:first-of-type > div > table > tbody > tr > td > div:nth-of-type(2) > center:nth-of-type(4) > center:nth-of-type(7)\"\n",
    "\n",
    "    ),\n",
    "    test.collect_content_individually(\n",
    "        driver,\n",
    "        link_details['href'][4],\n",
    "        text_content_selector=\"html > body > div:first-of-type > div:nth-of-type(2) > div > div:nth-of-type(5) > div > table > tbody > tr > td > div:first-of-type > div:nth-of-type(2) > table > tbody > tr > td > div:nth-of-type(2) > center > center:nth-of-type(2) > div\"\n",
    "    )\n",
    "]"
   ]
  },
  {
   "cell_type": "code",
   "execution_count": null,
   "metadata": {},
   "outputs": [],
   "source": [
    "page_text_content"
   ]
  },
  {
   "cell_type": "markdown",
   "metadata": {},
   "source": [
    "note: there are some missing values so query the rows having either its page header and page text content columns empty values"
   ]
  }
 ],
 "metadata": {
  "kernelspec": {
   "display_name": "Python 3.9.12 ('mldev')",
   "language": "python",
   "name": "python3"
  },
  "language_info": {
   "codemirror_mode": {
    "name": "ipython",
    "version": 3
   },
   "file_extension": ".py",
   "mimetype": "text/x-python",
   "name": "python",
   "nbconvert_exporter": "python",
   "pygments_lexer": "ipython3",
   "version": "3.9.12"
  },
  "orig_nbformat": 4,
  "vscode": {
   "interpreter": {
    "hash": "c6a5db7e3898f1ec047ffa0fd6d9251e59e457cf985271d4a44d24323efb77a1"
   }
  }
 },
 "nbformat": 4,
 "nbformat_minor": 2
}
