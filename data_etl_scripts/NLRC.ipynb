{
 "cells": [
  {
   "cell_type": "markdown",
   "metadata": {},
   "source": [
    "# NLRC"
   ]
  },
  {
   "cell_type": "markdown",
   "metadata": {},
   "source": [
    "## import libraries"
   ]
  },
  {
   "cell_type": "code",
   "execution_count": 21,
   "metadata": {},
   "outputs": [],
   "source": [
    "from selenium.webdriver.chrome.service import Service\n",
    "from selenium import webdriver\n",
    "import test"
   ]
  },
  {
   "cell_type": "markdown",
   "metadata": {},
   "source": [
    "## setup driver"
   ]
  },
  {
   "cell_type": "code",
   "execution_count": 22,
   "metadata": {},
   "outputs": [],
   "source": [
    "PATH = \"C:\\Program Files (x86)\\Chrome Driver\\chromedriver.exe\"\n",
    "service = Service(executable_path=PATH)\n",
    "driver = webdriver.Chrome(service=service)\n",
    "\n",
    "# used so that everytime browser updates there is no need for downloading a new\n",
    "# version of the chromedriver.exe application to match version of newly updated browser\n",
    "# from webdriver_manager.chrome import ChromeDriverManager\n",
    "# service = Service(executable_path=ChromeDriverManager().install())"
   ]
  },
  {
   "cell_type": "code",
   "execution_count": 23,
   "metadata": {},
   "outputs": [],
   "source": [
    "link_details = test.collect_link_details(\n",
    "    driver,\n",
    "    \"https://www.chanrobles.com/nlrc.html\",\n",
    "    \"html > body > div:first-of-type > div > div > div:nth-of-type(2) > div > div > div:first-of-type > div > div:nth-of-type(2) > center > table > tbody\"\n",
    ")"
   ]
  },
  {
   "cell_type": "code",
   "execution_count": 24,
   "metadata": {},
   "outputs": [
    {
     "data": {
      "text/html": [
       "<div>\n",
       "<style scoped>\n",
       "    .dataframe tbody tr th:only-of-type {\n",
       "        vertical-align: middle;\n",
       "    }\n",
       "\n",
       "    .dataframe tbody tr th {\n",
       "        vertical-align: top;\n",
       "    }\n",
       "\n",
       "    .dataframe thead th {\n",
       "        text-align: right;\n",
       "    }\n",
       "</style>\n",
       "<table border=\"1\" class=\"dataframe\">\n",
       "  <thead>\n",
       "    <tr style=\"text-align: right;\">\n",
       "      <th></th>\n",
       "      <th>link_text</th>\n",
       "      <th>href</th>\n",
       "    </tr>\n",
       "  </thead>\n",
       "  <tbody>\n",
       "    <tr>\n",
       "      <th>0</th>\n",
       "      <td>THE 2011 NLRC RULES OF PROCEDURE</td>\n",
       "      <td>https://www.chanrobles.com/laborlaw/2011_newru...</td>\n",
       "    </tr>\n",
       "    <tr>\n",
       "      <th>1</th>\n",
       "      <td>EN BANC RESOLUTION NO. 11 - 06 -</td>\n",
       "      <td>https://www.chanrobles.com/nlrcenbancresolutio...</td>\n",
       "    </tr>\n",
       "    <tr>\n",
       "      <th>2</th>\n",
       "      <td>Series of 2006</td>\n",
       "      <td>https://www.chanrobles.com/nlrcenbancresolutio...</td>\n",
       "    </tr>\n",
       "    <tr>\n",
       "      <th>3</th>\n",
       "      <td>EN BANC RESOLUTION NO. 10-06 -</td>\n",
       "      <td>https://www.chanrobles.com/nlrcenbancresolutio...</td>\n",
       "    </tr>\n",
       "    <tr>\n",
       "      <th>4</th>\n",
       "      <td>Series of 2006</td>\n",
       "      <td>https://www.chanrobles.com/nlrcenbancresolutio...</td>\n",
       "    </tr>\n",
       "    <tr>\n",
       "      <th>5</th>\n",
       "      <td>The 2005 Revised Rules of Procedure of the NRLC</td>\n",
       "      <td>https://www.chanrobles.com/nlrcrevisedrulesofp...</td>\n",
       "    </tr>\n",
       "    <tr>\n",
       "      <th>6</th>\n",
       "      <td>The New Rules of Procedure of the NRLC (As ame...</td>\n",
       "      <td>https://www.chanrobles.com/nlrcnewrulesofproce...</td>\n",
       "    </tr>\n",
       "    <tr>\n",
       "      <th>7</th>\n",
       "      <td>The New Rules of Procedure of the NLRC (Old)</td>\n",
       "      <td>https://www.chanrobles.com/nlrcnewrulesofproce...</td>\n",
       "    </tr>\n",
       "    <tr>\n",
       "      <th>8</th>\n",
       "      <td>NLRC Interim Rules on Appeals Under R. A. 6715...</td>\n",
       "      <td>https://www.chanrobles.com/nlrcinterimrulesofp...</td>\n",
       "    </tr>\n",
       "    <tr>\n",
       "      <th>9</th>\n",
       "      <td>NLRC Manual on Execution of Judgment</td>\n",
       "      <td>https://www.chanrobles.com/nlrcmanualonexecuti...</td>\n",
       "    </tr>\n",
       "    <tr>\n",
       "      <th>10</th>\n",
       "      <td>Manual of Instructions for Sheriffs of the NLR...</td>\n",
       "      <td>https://www.chanrobles.com/nlrcsheriffsmanual....</td>\n",
       "    </tr>\n",
       "    <tr>\n",
       "      <th>11</th>\n",
       "      <td>The ChanRobles Group</td>\n",
       "      <td>https://www.chanrobles.com/legal8.htm</td>\n",
       "    </tr>\n",
       "  </tbody>\n",
       "</table>\n",
       "</div>"
      ],
      "text/plain": [
       "                                            link_text                                               href\n",
       "0                    THE 2011 NLRC RULES OF PROCEDURE  https://www.chanrobles.com/laborlaw/2011_newru...\n",
       "1                    EN BANC RESOLUTION NO. 11 - 06 -  https://www.chanrobles.com/nlrcenbancresolutio...\n",
       "2                                      Series of 2006  https://www.chanrobles.com/nlrcenbancresolutio...\n",
       "3                     EN BANC RESOLUTION NO. 10-06 -   https://www.chanrobles.com/nlrcenbancresolutio...\n",
       "4                                      Series of 2006  https://www.chanrobles.com/nlrcenbancresolutio...\n",
       "5     The 2005 Revised Rules of Procedure of the NRLC  https://www.chanrobles.com/nlrcrevisedrulesofp...\n",
       "6   The New Rules of Procedure of the NRLC (As ame...  https://www.chanrobles.com/nlrcnewrulesofproce...\n",
       "7        The New Rules of Procedure of the NLRC (Old)  https://www.chanrobles.com/nlrcnewrulesofproce...\n",
       "8   NLRC Interim Rules on Appeals Under R. A. 6715...  https://www.chanrobles.com/nlrcinterimrulesofp...\n",
       "9                NLRC Manual on Execution of Judgment  https://www.chanrobles.com/nlrcmanualonexecuti...\n",
       "10  Manual of Instructions for Sheriffs of the NLR...  https://www.chanrobles.com/nlrcsheriffsmanual....\n",
       "11                               The ChanRobles Group              https://www.chanrobles.com/legal8.htm"
      ]
     },
     "execution_count": 24,
     "metadata": {},
     "output_type": "execute_result"
    }
   ],
   "source": [
    "link_details"
   ]
  },
  {
   "cell_type": "code",
   "execution_count": 25,
   "metadata": {},
   "outputs": [
    {
     "data": {
      "text/html": [
       "<div>\n",
       "<style scoped>\n",
       "    .dataframe tbody tr th:only-of-type {\n",
       "        vertical-align: middle;\n",
       "    }\n",
       "\n",
       "    .dataframe tbody tr th {\n",
       "        vertical-align: top;\n",
       "    }\n",
       "\n",
       "    .dataframe thead th {\n",
       "        text-align: right;\n",
       "    }\n",
       "</style>\n",
       "<table border=\"1\" class=\"dataframe\">\n",
       "  <thead>\n",
       "    <tr style=\"text-align: right;\">\n",
       "      <th></th>\n",
       "      <th>link_text</th>\n",
       "      <th>href</th>\n",
       "    </tr>\n",
       "  </thead>\n",
       "  <tbody>\n",
       "    <tr>\n",
       "      <th>0</th>\n",
       "      <td>THE 2011 NLRC RULES OF PROCEDURE</td>\n",
       "      <td>https://www.chanrobles.com/laborlaw/2011_newru...</td>\n",
       "    </tr>\n",
       "    <tr>\n",
       "      <th>1</th>\n",
       "      <td>EN BANC RESOLUTION NO. 11 - 06 -</td>\n",
       "      <td>https://www.chanrobles.com/nlrcenbancresolutio...</td>\n",
       "    </tr>\n",
       "    <tr>\n",
       "      <th>2</th>\n",
       "      <td>Series of 2006</td>\n",
       "      <td>https://www.chanrobles.com/nlrcenbancresolutio...</td>\n",
       "    </tr>\n",
       "    <tr>\n",
       "      <th>3</th>\n",
       "      <td>EN BANC RESOLUTION NO. 10-06 -</td>\n",
       "      <td>https://www.chanrobles.com/nlrcenbancresolutio...</td>\n",
       "    </tr>\n",
       "    <tr>\n",
       "      <th>4</th>\n",
       "      <td>Series of 2006</td>\n",
       "      <td>https://www.chanrobles.com/nlrcenbancresolutio...</td>\n",
       "    </tr>\n",
       "    <tr>\n",
       "      <th>5</th>\n",
       "      <td>The 2005 Revised Rules of Procedure of the NRLC</td>\n",
       "      <td>https://www.chanrobles.com/nlrcrevisedrulesofp...</td>\n",
       "    </tr>\n",
       "    <tr>\n",
       "      <th>6</th>\n",
       "      <td>The New Rules of Procedure of the NRLC (As ame...</td>\n",
       "      <td>https://www.chanrobles.com/nlrcnewrulesofproce...</td>\n",
       "    </tr>\n",
       "    <tr>\n",
       "      <th>7</th>\n",
       "      <td>The New Rules of Procedure of the NLRC (Old)</td>\n",
       "      <td>https://www.chanrobles.com/nlrcnewrulesofproce...</td>\n",
       "    </tr>\n",
       "    <tr>\n",
       "      <th>8</th>\n",
       "      <td>NLRC Interim Rules on Appeals Under R. A. 6715...</td>\n",
       "      <td>https://www.chanrobles.com/nlrcinterimrulesofp...</td>\n",
       "    </tr>\n",
       "    <tr>\n",
       "      <th>9</th>\n",
       "      <td>NLRC Manual on Execution of Judgment</td>\n",
       "      <td>https://www.chanrobles.com/nlrcmanualonexecuti...</td>\n",
       "    </tr>\n",
       "    <tr>\n",
       "      <th>10</th>\n",
       "      <td>Manual of Instructions for Sheriffs of the NLR...</td>\n",
       "      <td>https://www.chanrobles.com/nlrcsheriffsmanual....</td>\n",
       "    </tr>\n",
       "  </tbody>\n",
       "</table>\n",
       "</div>"
      ],
      "text/plain": [
       "                                            link_text                                               href\n",
       "0                    THE 2011 NLRC RULES OF PROCEDURE  https://www.chanrobles.com/laborlaw/2011_newru...\n",
       "1                    EN BANC RESOLUTION NO. 11 - 06 -  https://www.chanrobles.com/nlrcenbancresolutio...\n",
       "2                                      Series of 2006  https://www.chanrobles.com/nlrcenbancresolutio...\n",
       "3                     EN BANC RESOLUTION NO. 10-06 -   https://www.chanrobles.com/nlrcenbancresolutio...\n",
       "4                                      Series of 2006  https://www.chanrobles.com/nlrcenbancresolutio...\n",
       "5     The 2005 Revised Rules of Procedure of the NRLC  https://www.chanrobles.com/nlrcrevisedrulesofp...\n",
       "6   The New Rules of Procedure of the NRLC (As ame...  https://www.chanrobles.com/nlrcnewrulesofproce...\n",
       "7        The New Rules of Procedure of the NLRC (Old)  https://www.chanrobles.com/nlrcnewrulesofproce...\n",
       "8   NLRC Interim Rules on Appeals Under R. A. 6715...  https://www.chanrobles.com/nlrcinterimrulesofp...\n",
       "9                NLRC Manual on Execution of Judgment  https://www.chanrobles.com/nlrcmanualonexecuti...\n",
       "10  Manual of Instructions for Sheriffs of the NLR...  https://www.chanrobles.com/nlrcsheriffsmanual...."
      ]
     },
     "execution_count": 25,
     "metadata": {},
     "output_type": "execute_result"
    }
   ],
   "source": [
    "link_details[:11][:]"
   ]
  },
  {
   "cell_type": "markdown",
   "metadata": {},
   "source": [
    "# Main"
   ]
  },
  {
   "cell_type": "markdown",
   "metadata": {},
   "source": []
  },
  {
   "cell_type": "code",
   "execution_count": 26,
   "metadata": {},
   "outputs": [
    {
     "name": "stdout",
     "output_type": "stream",
     "text": [
      "will go to next link\n"
     ]
    },
    {
     "ename": "InvalidArgumentException",
     "evalue": "Message: invalid argument\n  (Session info: chrome=106.0.5249.121)\nStacktrace:\nBacktrace:\n\tOrdinal0 [0x00831ED3+2236115]\n\tOrdinal0 [0x007C92F1+1807089]\n\tOrdinal0 [0x006D65C0+812480]\n\tOrdinal0 [0x006C992A+760106]\n\tOrdinal0 [0x006C8313+754451]\n\tOrdinal0 [0x006C861D+755229]\n\tOrdinal0 [0x006D800E+819214]\n\tOrdinal0 [0x007360CD+1204429]\n\tOrdinal0 [0x00721A8C+1120908]\n\tOrdinal0 [0x007359E2+1202658]\n\tOrdinal0 [0x007218A6+1120422]\n\tOrdinal0 [0x006FA73D+960317]\n\tOrdinal0 [0x006FB71F+964383]\n\tGetHandleVerifier [0x00ADE7E2+2743074]\n\tGetHandleVerifier [0x00AD08D4+2685972]\n\tGetHandleVerifier [0x008C2BAA+532202]\n\tGetHandleVerifier [0x008C1990+527568]\n\tOrdinal0 [0x007D080C+1837068]\n\tOrdinal0 [0x007D4CD8+1854680]\n\tOrdinal0 [0x007D4DC5+1854917]\n\tOrdinal0 [0x007DED64+1895780]\n\tBaseThreadInitThunk [0x758E6359+25]\n\tRtlGetAppContainerNamedObjectPath [0x77D77B74+228]\n\tRtlGetAppContainerNamedObjectPath [0x77D77B44+180]\n",
     "output_type": "error",
     "traceback": [
      "\u001b[1;31m---------------------------------------------------------------------------\u001b[0m",
      "\u001b[1;31mInvalidArgumentException\u001b[0m                  Traceback (most recent call last)",
      "\u001b[1;32mc:\\Users\\Mig\\Desktop\\projects\\RS_for_labor_related_cases\\data_etl_scripts\\NLRC.ipynb Cell 11\u001b[0m in \u001b[0;36m<cell line: 1>\u001b[1;34m()\u001b[0m\n\u001b[1;32m----> <a href='vscode-notebook-cell:/c%3A/Users/Mig/Desktop/projects/RS_for_labor_related_cases/data_etl_scripts/NLRC.ipynb#X12sZmlsZQ%3D%3D?line=0'>1</a>\u001b[0m test\u001b[39m.\u001b[39;49mcollect_content(\n\u001b[0;32m      <a href='vscode-notebook-cell:/c%3A/Users/Mig/Desktop/projects/RS_for_labor_related_cases/data_etl_scripts/NLRC.ipynb#X12sZmlsZQ%3D%3D?line=1'>2</a>\u001b[0m     driver,\n\u001b[0;32m      <a href='vscode-notebook-cell:/c%3A/Users/Mig/Desktop/projects/RS_for_labor_related_cases/data_etl_scripts/NLRC.ipynb#X12sZmlsZQ%3D%3D?line=2'>3</a>\u001b[0m     link_details[:\u001b[39m11\u001b[39;49m][:],\n\u001b[0;32m      <a href='vscode-notebook-cell:/c%3A/Users/Mig/Desktop/projects/RS_for_labor_related_cases/data_etl_scripts/NLRC.ipynb#X12sZmlsZQ%3D%3D?line=3'>4</a>\u001b[0m     \u001b[39m\"\u001b[39;49m\u001b[39mhtml > body > div:first-of-type > div > div > div:nth-of-type(2) > div > div > div:first-of-type > div > div:nth-of-type(2) > p:first-of-type\u001b[39;49m\u001b[39m\"\u001b[39;49m,\n\u001b[0;32m      <a href='vscode-notebook-cell:/c%3A/Users/Mig/Desktop/projects/RS_for_labor_related_cases/data_etl_scripts/NLRC.ipynb#X12sZmlsZQ%3D%3D?line=4'>5</a>\u001b[0m     \u001b[39m\"\u001b[39;49m\u001b[39mhtml > body > div:first-of-type > div > div > div:nth-of-type(2) > div > div > div:first-of-type > div > div:nth-of-type(2)\u001b[39;49m\u001b[39m\"\u001b[39;49m\n\u001b[0;32m      <a href='vscode-notebook-cell:/c%3A/Users/Mig/Desktop/projects/RS_for_labor_related_cases/data_etl_scripts/NLRC.ipynb#X12sZmlsZQ%3D%3D?line=5'>6</a>\u001b[0m )\n",
      "File \u001b[1;32mc:\\Users\\Mig\\Desktop\\projects\\RS_for_labor_related_cases\\data_etl_scripts\\test.py:41\u001b[0m, in \u001b[0;36mcollect_content\u001b[1;34m(driver, links, header_selector, text_content_selector)\u001b[0m\n\u001b[0;32m     37\u001b[0m \u001b[39mfor\u001b[39;00m link \u001b[39min\u001b[39;00m links:\n\u001b[0;32m     38\u001b[0m     \u001b[39m# otherwise if the callback does not return a true value and time\u001b[39;00m\n\u001b[0;32m     39\u001b[0m     \u001b[39m# period is up, then WebDriverWait raises a timeout error\u001b[39;00m\n\u001b[0;32m     40\u001b[0m     \u001b[39mtry\u001b[39;00m:\n\u001b[1;32m---> 41\u001b[0m         driver\u001b[39m.\u001b[39;49mget(link)\n\u001b[0;32m     42\u001b[0m         wait_val \u001b[39m=\u001b[39m WebDriverWait(driver, timeout\u001b[39m=\u001b[39m\u001b[39m10\u001b[39m)\u001b[39m.\u001b[39muntil(\u001b[39mlambda\u001b[39;00m driver: driver\u001b[39m.\u001b[39mexecute_script(\u001b[39m'\u001b[39m\u001b[39mreturn document.readyState === \u001b[39m\u001b[39m\"\u001b[39m\u001b[39mcomplete\u001b[39m\u001b[39m\"\u001b[39m\u001b[39m'\u001b[39m))\n\u001b[0;32m     43\u001b[0m         \u001b[39mprint\u001b[39m(\u001b[39m\"\u001b[39m\u001b[39mWait value: \u001b[39m\u001b[39m{}\u001b[39;00m\u001b[39m\\n\u001b[39;00m\u001b[39mPage title: \u001b[39m\u001b[39m{}\u001b[39;00m\u001b[39m\\n\u001b[39;00m\u001b[39m\"\u001b[39m\u001b[39m.\u001b[39mformat(wait_val, driver\u001b[39m.\u001b[39mtitle))\n",
      "File \u001b[1;32mc:\\ProgramData\\Anaconda3\\envs\\mldev\\lib\\site-packages\\selenium\\webdriver\\remote\\webdriver.py:441\u001b[0m, in \u001b[0;36mWebDriver.get\u001b[1;34m(self, url)\u001b[0m\n\u001b[0;32m    437\u001b[0m \u001b[39mdef\u001b[39;00m \u001b[39mget\u001b[39m(\u001b[39mself\u001b[39m, url: \u001b[39mstr\u001b[39m) \u001b[39m-\u001b[39m\u001b[39m>\u001b[39m \u001b[39mNone\u001b[39;00m:\n\u001b[0;32m    438\u001b[0m     \u001b[39m\"\"\"\u001b[39;00m\n\u001b[0;32m    439\u001b[0m \u001b[39m    Loads a web page in the current browser session.\u001b[39;00m\n\u001b[0;32m    440\u001b[0m \u001b[39m    \"\"\"\u001b[39;00m\n\u001b[1;32m--> 441\u001b[0m     \u001b[39mself\u001b[39;49m\u001b[39m.\u001b[39;49mexecute(Command\u001b[39m.\u001b[39;49mGET, {\u001b[39m'\u001b[39;49m\u001b[39murl\u001b[39;49m\u001b[39m'\u001b[39;49m: url})\n",
      "File \u001b[1;32mc:\\ProgramData\\Anaconda3\\envs\\mldev\\lib\\site-packages\\selenium\\webdriver\\remote\\webdriver.py:429\u001b[0m, in \u001b[0;36mWebDriver.execute\u001b[1;34m(self, driver_command, params)\u001b[0m\n\u001b[0;32m    427\u001b[0m response \u001b[39m=\u001b[39m \u001b[39mself\u001b[39m\u001b[39m.\u001b[39mcommand_executor\u001b[39m.\u001b[39mexecute(driver_command, params)\n\u001b[0;32m    428\u001b[0m \u001b[39mif\u001b[39;00m response:\n\u001b[1;32m--> 429\u001b[0m     \u001b[39mself\u001b[39;49m\u001b[39m.\u001b[39;49merror_handler\u001b[39m.\u001b[39;49mcheck_response(response)\n\u001b[0;32m    430\u001b[0m     response[\u001b[39m'\u001b[39m\u001b[39mvalue\u001b[39m\u001b[39m'\u001b[39m] \u001b[39m=\u001b[39m \u001b[39mself\u001b[39m\u001b[39m.\u001b[39m_unwrap_value(\n\u001b[0;32m    431\u001b[0m         response\u001b[39m.\u001b[39mget(\u001b[39m'\u001b[39m\u001b[39mvalue\u001b[39m\u001b[39m'\u001b[39m, \u001b[39mNone\u001b[39;00m))\n\u001b[0;32m    432\u001b[0m     \u001b[39mreturn\u001b[39;00m response\n",
      "File \u001b[1;32mc:\\ProgramData\\Anaconda3\\envs\\mldev\\lib\\site-packages\\selenium\\webdriver\\remote\\errorhandler.py:243\u001b[0m, in \u001b[0;36mErrorHandler.check_response\u001b[1;34m(self, response)\u001b[0m\n\u001b[0;32m    241\u001b[0m         alert_text \u001b[39m=\u001b[39m value[\u001b[39m'\u001b[39m\u001b[39malert\u001b[39m\u001b[39m'\u001b[39m]\u001b[39m.\u001b[39mget(\u001b[39m'\u001b[39m\u001b[39mtext\u001b[39m\u001b[39m'\u001b[39m)\n\u001b[0;32m    242\u001b[0m     \u001b[39mraise\u001b[39;00m exception_class(message, screen, stacktrace, alert_text)  \u001b[39m# type: ignore[call-arg]  # mypy is not smart enough here\u001b[39;00m\n\u001b[1;32m--> 243\u001b[0m \u001b[39mraise\u001b[39;00m exception_class(message, screen, stacktrace)\n",
      "\u001b[1;31mInvalidArgumentException\u001b[0m: Message: invalid argument\n  (Session info: chrome=106.0.5249.121)\nStacktrace:\nBacktrace:\n\tOrdinal0 [0x00831ED3+2236115]\n\tOrdinal0 [0x007C92F1+1807089]\n\tOrdinal0 [0x006D65C0+812480]\n\tOrdinal0 [0x006C992A+760106]\n\tOrdinal0 [0x006C8313+754451]\n\tOrdinal0 [0x006C861D+755229]\n\tOrdinal0 [0x006D800E+819214]\n\tOrdinal0 [0x007360CD+1204429]\n\tOrdinal0 [0x00721A8C+1120908]\n\tOrdinal0 [0x007359E2+1202658]\n\tOrdinal0 [0x007218A6+1120422]\n\tOrdinal0 [0x006FA73D+960317]\n\tOrdinal0 [0x006FB71F+964383]\n\tGetHandleVerifier [0x00ADE7E2+2743074]\n\tGetHandleVerifier [0x00AD08D4+2685972]\n\tGetHandleVerifier [0x008C2BAA+532202]\n\tGetHandleVerifier [0x008C1990+527568]\n\tOrdinal0 [0x007D080C+1837068]\n\tOrdinal0 [0x007D4CD8+1854680]\n\tOrdinal0 [0x007D4DC5+1854917]\n\tOrdinal0 [0x007DED64+1895780]\n\tBaseThreadInitThunk [0x758E6359+25]\n\tRtlGetAppContainerNamedObjectPath [0x77D77B74+228]\n\tRtlGetAppContainerNamedObjectPath [0x77D77B44+180]\n"
     ]
    }
   ],
   "source": [
    "test.collect_content(\n",
    "    driver,\n",
    "    link_details[:11][:],\n",
    "    \"html > body > div:first-of-type > div > div > div:nth-of-type(2) > div > div > div:first-of-type > div > div:nth-of-type(2) > p:first-of-type\",\n",
    "    \"html > body > div:first-of-type > div > div > div:nth-of-type(2) > div > div > div:first-of-type > div > div:nth-of-type(2)\"\n",
    ")"
   ]
  }
 ],
 "metadata": {
  "kernelspec": {
   "display_name": "Python 3.9.12 ('mldev')",
   "language": "python",
   "name": "python3"
  },
  "language_info": {
   "codemirror_mode": {
    "name": "ipython",
    "version": 3
   },
   "file_extension": ".py",
   "mimetype": "text/x-python",
   "name": "python",
   "nbconvert_exporter": "python",
   "pygments_lexer": "ipython3",
   "version": "3.9.12"
  },
  "orig_nbformat": 4,
  "vscode": {
   "interpreter": {
    "hash": "c6a5db7e3898f1ec047ffa0fd6d9251e59e457cf985271d4a44d24323efb77a1"
   }
  }
 },
 "nbformat": 4,
 "nbformat_minor": 2
}
