{
 "cells": [
  {
   "cell_type": "markdown",
   "metadata": {},
   "source": [
    "# Significant DOLE Department Orders"
   ]
  },
  {
   "cell_type": "markdown",
   "metadata": {},
   "source": [
    "# Import libraries"
   ]
  },
  {
   "cell_type": "code",
   "execution_count": 1,
   "metadata": {},
   "outputs": [],
   "source": [
    "import test\n",
    "import pandas as pd"
   ]
  },
  {
   "cell_type": "markdown",
   "metadata": {},
   "source": [
    "# To do list\n",
    "\n",
    "update 2: current pipeline is two fold, the first is by using the collect_link_details() and collect_content() in pair with each other to extract the link_text, href, page_header, and page_text_content values, and the second is by in part manually copying and pasting each link_text, href, page_header, and page_text_content values, by using beautiful soup to handle the sometimes bug of collect_content() functions inability to grab the headers \n",
    "\n",
    "problem 9: with the sometimes inability of collect_content() to grab the headers of different selectors even if the selector exists on the page but somehow just doesn't get grabbed, use beautiful soup to again use a css selector and grab the header/s and append them if there are in fact more than one,\n",
    "\n",
    "problem 8: links may be doubled for some inconvenient and inexusable reason in that website so the solution is to collect all links with css selector, merge text of links with same href and place in a single row, merge links with same href and place in single row"
   ]
  },
  {
   "cell_type": "markdown",
   "metadata": {},
   "source": [
    "# Extract link text and link href\n",
    "page link container: html > body > div:first-of-type > div:nth-of-type(2) > div > div:nth-of-type(5) > div > table > tbody > tr > td > div:first-of-type > div:nth-of-type(2) > table > tbody > tr > td > div:nth-of-type(2) > center:nth-of-type(2) > center:first-of-type > center > table > tbody"
   ]
  },
  {
   "cell_type": "code",
   "execution_count": 2,
   "metadata": {},
   "outputs": [
    {
     "name": "stderr",
     "output_type": "stream",
     "text": [
      "c:\\Users\\Mig\\Desktop\\projects\\RS_for_labor_related_cases\\data_etl_scripts\\test.py:139: GuessedAtParserWarning: No parser was explicitly specified, so I'm using the best available HTML parser for this system (\"html.parser\"). This usually isn't a problem, but if you run this code on another system, or in a different virtual environment, it may use a different parser and behave differently.\n",
      "\n",
      "The code that caused this warning is on line 139 of the file c:\\Users\\Mig\\Desktop\\projects\\RS_for_labor_related_cases\\data_etl_scripts\\test.py. To get rid of this warning, pass the additional argument 'features=\"html.parser\"' to the BeautifulSoup constructor.\n",
      "\n",
      "  dom = BeautifulSoup(dom_text)\n"
     ]
    }
   ],
   "source": [
    "link_details = test.collect_link_details_bs(\n",
    "    \"https://www.chanrobles.com/significantDOLEdepartmentorders.html\",\n",
    "    \"html > body > div:first-of-type > div:nth-of-type(2) > div > div:nth-of-type(5) > div > table > tbody > tr > td > div:first-of-type > div:nth-of-type(2) > table > tbody > tr > td > div:nth-of-type(2) > center:nth-of-type(2) > center:first-of-type > center > table > tbody\"\n",
    ")"
   ]
  },
  {
   "cell_type": "code",
   "execution_count": 3,
   "metadata": {},
   "outputs": [
    {
     "data": {
      "text/html": [
       "<div>\n",
       "<style scoped>\n",
       "    .dataframe tbody tr th:only-of-type {\n",
       "        vertical-align: middle;\n",
       "    }\n",
       "\n",
       "    .dataframe tbody tr th {\n",
       "        vertical-align: top;\n",
       "    }\n",
       "\n",
       "    .dataframe thead th {\n",
       "        text-align: right;\n",
       "    }\n",
       "</style>\n",
       "<table border=\"1\" class=\"dataframe\">\n",
       "  <thead>\n",
       "    <tr style=\"text-align: right;\">\n",
       "      <th></th>\n",
       "      <th>link_text</th>\n",
       "      <th>href</th>\n",
       "    </tr>\n",
       "  </thead>\n",
       "  <tbody>\n",
       "    <tr>\n",
       "      <th>0</th>\n",
       "      <td>Department\\nOrder No. 1, (Series of 2001) [Exp...</td>\n",
       "      <td>https://www.chanrobles.com/doledepartmentorder...</td>\n",
       "    </tr>\n",
       "    <tr>\n",
       "      <th>1</th>\n",
       "      <td>Department\\nOrder No. 2, (Series of 2001) [Gui...</td>\n",
       "      <td>https://www.chanrobles.com/doledepartmentorder...</td>\n",
       "    </tr>\n",
       "    <tr>\n",
       "      <th>2</th>\n",
       "      <td>Department\\nOrder No. 3, (Series of 2001) [Rev...</td>\n",
       "      <td>https://www.chanrobles.com/doledepartmentorder...</td>\n",
       "    </tr>\n",
       "    <tr>\n",
       "      <th>3</th>\n",
       "      <td>Department\\nOrder No. 4, (Series of 2001) [Med...</td>\n",
       "      <td>https://www.chanrobles.com/doledepartmentorder...</td>\n",
       "    </tr>\n",
       "    <tr>\n",
       "      <th>4</th>\n",
       "      <td>Department\\nOrder No. 5, (Series of 2001) [Inc...</td>\n",
       "      <td>https://www.chanrobles.com/doledepartmentorder...</td>\n",
       "    </tr>\n",
       "    <tr>\n",
       "      <th>5</th>\n",
       "      <td>Department\\nOrder No. 6, (Series of 2001) [Omn...</td>\n",
       "      <td>https://www.chanrobles.com/doledepartmentorder...</td>\n",
       "    </tr>\n",
       "    <tr>\n",
       "      <th>6</th>\n",
       "      <td>Department\\nOrder No. 7, (Series of 2001) [Gui...</td>\n",
       "      <td>https://www.chanrobles.com/doledepartmentorder...</td>\n",
       "    </tr>\n",
       "    <tr>\n",
       "      <th>7</th>\n",
       "      <td>Department\\nOrder No. 8, (Series of 2001) [Imp...</td>\n",
       "      <td>https://www.chanrobles.com/doledepartmentorder...</td>\n",
       "    </tr>\n",
       "    <tr>\n",
       "      <th>8</th>\n",
       "      <td>Department\\nOrder No. 9, (Series of 2001) [Rev...</td>\n",
       "      <td>https://www.chanrobles.com/doledepartmentorder...</td>\n",
       "    </tr>\n",
       "    <tr>\n",
       "      <th>9</th>\n",
       "      <td>Department\\nOrder No. 10, (Series of 2001) [Re...</td>\n",
       "      <td>https://www.chanrobles.com/doledepartmentorder...</td>\n",
       "    </tr>\n",
       "    <tr>\n",
       "      <th>10</th>\n",
       "      <td>Department\\nOrder No. 11, (Series of 2001) [Re...</td>\n",
       "      <td>https://www.chanrobles.com/doledepartmentorder...</td>\n",
       "    </tr>\n",
       "    <tr>\n",
       "      <th>11</th>\n",
       "      <td>Department\\nOrder No. 12, (Series of 2001) [Om...</td>\n",
       "      <td>https://www.chanrobles.com/doledepartmentorder...</td>\n",
       "    </tr>\n",
       "    <tr>\n",
       "      <th>12</th>\n",
       "      <td>Department\\nOrder No. 13, (Series of 2001) [Su...</td>\n",
       "      <td>https://www.chanrobles.com/doledepartmentorder...</td>\n",
       "    </tr>\n",
       "    <tr>\n",
       "      <th>13</th>\n",
       "      <td>Department\\nOrder No. 14, (Series of 2001) [Gu...</td>\n",
       "      <td>https://www.chanrobles.com/doledepartmentorder...</td>\n",
       "    </tr>\n",
       "    <tr>\n",
       "      <th>14</th>\n",
       "      <td>Department\\nOrder No. 15, (Series of 2001) [Ru...</td>\n",
       "      <td>https://www.chanrobles.com/doledepartmentorder...</td>\n",
       "    </tr>\n",
       "    <tr>\n",
       "      <th>15</th>\n",
       "      <td>Department\\nOrder No. 16, (Series of 2001) [Tr...</td>\n",
       "      <td>https://www.chanrobles.com/doledepartmentorder...</td>\n",
       "    </tr>\n",
       "    <tr>\n",
       "      <th>16</th>\n",
       "      <td>Department\\nOrder No. 53-03, (Series of 2003) ...</td>\n",
       "      <td>https://www.chanrobles.com/doledepartmentorder...</td>\n",
       "    </tr>\n",
       "    <tr>\n",
       "      <th>17</th>\n",
       "      <td>DOLE\\nRule  1160 (Boiler)</td>\n",
       "      <td>https://www.chanrobles.com/dolerule1160-2001.html</td>\n",
       "    </tr>\n",
       "    <tr>\n",
       "      <th>18</th>\n",
       "      <td>DOLE\\nRule 1170 (Unfired Pressure Vessels)\\n</td>\n",
       "      <td>https://www.chanrobles.com/dolerule1170-2001.html</td>\n",
       "    </tr>\n",
       "  </tbody>\n",
       "</table>\n",
       "</div>"
      ],
      "text/plain": [
       "                                            link_text  \\\n",
       "0   Department\\nOrder No. 1, (Series of 2001) [Exp...   \n",
       "1   Department\\nOrder No. 2, (Series of 2001) [Gui...   \n",
       "2   Department\\nOrder No. 3, (Series of 2001) [Rev...   \n",
       "3   Department\\nOrder No. 4, (Series of 2001) [Med...   \n",
       "4   Department\\nOrder No. 5, (Series of 2001) [Inc...   \n",
       "5   Department\\nOrder No. 6, (Series of 2001) [Omn...   \n",
       "6   Department\\nOrder No. 7, (Series of 2001) [Gui...   \n",
       "7   Department\\nOrder No. 8, (Series of 2001) [Imp...   \n",
       "8   Department\\nOrder No. 9, (Series of 2001) [Rev...   \n",
       "9   Department\\nOrder No. 10, (Series of 2001) [Re...   \n",
       "10  Department\\nOrder No. 11, (Series of 2001) [Re...   \n",
       "11  Department\\nOrder No. 12, (Series of 2001) [Om...   \n",
       "12  Department\\nOrder No. 13, (Series of 2001) [Su...   \n",
       "13  Department\\nOrder No. 14, (Series of 2001) [Gu...   \n",
       "14  Department\\nOrder No. 15, (Series of 2001) [Ru...   \n",
       "15  Department\\nOrder No. 16, (Series of 2001) [Tr...   \n",
       "16  Department\\nOrder No. 53-03, (Series of 2003) ...   \n",
       "17                          DOLE\\nRule  1160 (Boiler)   \n",
       "18       DOLE\\nRule 1170 (Unfired Pressure Vessels)\\n   \n",
       "\n",
       "                                                 href  \n",
       "0   https://www.chanrobles.com/doledepartmentorder...  \n",
       "1   https://www.chanrobles.com/doledepartmentorder...  \n",
       "2   https://www.chanrobles.com/doledepartmentorder...  \n",
       "3   https://www.chanrobles.com/doledepartmentorder...  \n",
       "4   https://www.chanrobles.com/doledepartmentorder...  \n",
       "5   https://www.chanrobles.com/doledepartmentorder...  \n",
       "6   https://www.chanrobles.com/doledepartmentorder...  \n",
       "7   https://www.chanrobles.com/doledepartmentorder...  \n",
       "8   https://www.chanrobles.com/doledepartmentorder...  \n",
       "9   https://www.chanrobles.com/doledepartmentorder...  \n",
       "10  https://www.chanrobles.com/doledepartmentorder...  \n",
       "11  https://www.chanrobles.com/doledepartmentorder...  \n",
       "12  https://www.chanrobles.com/doledepartmentorder...  \n",
       "13  https://www.chanrobles.com/doledepartmentorder...  \n",
       "14  https://www.chanrobles.com/doledepartmentorder...  \n",
       "15  https://www.chanrobles.com/doledepartmentorder...  \n",
       "16  https://www.chanrobles.com/doledepartmentorder...  \n",
       "17  https://www.chanrobles.com/dolerule1160-2001.html  \n",
       "18  https://www.chanrobles.com/dolerule1170-2001.html  "
      ]
     },
     "execution_count": 3,
     "metadata": {},
     "output_type": "execute_result"
    }
   ],
   "source": [
    "link_details"
   ]
  },
  {
   "cell_type": "markdown",
   "metadata": {},
   "source": [
    "# extract headers and text content"
   ]
  },
  {
   "cell_type": "code",
   "execution_count": null,
   "metadata": {},
   "outputs": [],
   "source": []
  }
 ],
 "metadata": {
  "kernelspec": {
   "display_name": "Python 3.9.12 ('mldev')",
   "language": "python",
   "name": "python3"
  },
  "language_info": {
   "codemirror_mode": {
    "name": "ipython",
    "version": 3
   },
   "file_extension": ".py",
   "mimetype": "text/x-python",
   "name": "python",
   "nbconvert_exporter": "python",
   "pygments_lexer": "ipython3",
   "version": "3.9.12"
  },
  "orig_nbformat": 4,
  "vscode": {
   "interpreter": {
    "hash": "c6a5db7e3898f1ec047ffa0fd6d9251e59e457cf985271d4a44d24323efb77a1"
   }
  }
 },
 "nbformat": 4,
 "nbformat_minor": 2
}
